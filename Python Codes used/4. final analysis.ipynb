{
 "cells": [
  {
   "cell_type": "code",
   "execution_count": 1,
   "id": "98b9b120",
   "metadata": {
    "_cell_guid": "b1076dfc-b9ad-4769-8c92-a6c4dae69d19",
    "_uuid": "8f2839f25d086af736a60e9eeb907d3b93b6e0e5",
    "execution": {
     "iopub.execute_input": "2021-11-10T22:28:58.512330Z",
     "iopub.status.busy": "2021-11-10T22:28:58.508768Z",
     "iopub.status.idle": "2021-11-10T22:28:58.528343Z",
     "shell.execute_reply": "2021-11-10T22:28:58.527694Z",
     "shell.execute_reply.started": "2021-10-08T01:21:51.449771Z"
    },
    "papermill": {
     "duration": 0.074341,
     "end_time": "2021-11-10T22:28:58.528530",
     "exception": false,
     "start_time": "2021-11-10T22:28:58.454189",
     "status": "completed"
    },
    "tags": []
   },
   "outputs": [
    {
     "name": "stdout",
     "output_type": "stream",
     "text": [
      "/kaggle/input/completo-definitivo/TABLE.xlsx - TABLE.csv\n",
      "/kaggle/input/todos-interfaces/TABLE.xlsx - TABLE.csv\n"
     ]
    }
   ],
   "source": [
    "# This Python 3 environment comes with many helpful analytics libraries installed\n",
    "# It is defined by the kaggle/python Docker image: https://github.com/kaggle/docker-python\n",
    "# For example, here's several helpful packages to load\n",
    "\n",
    "import numpy as np # linear algebra\n",
    "import pandas as pd # data processing, CSV file I/O (e.g. pd.read_csv)\n",
    "\n",
    "# Input data files are available in the read-only \"../input/\" directory\n",
    "# For example, running this (by clicking run or pressing Shift+Enter) will list all files under the input directory\n",
    "\n",
    "import os\n",
    "for dirname, _, filenames in os.walk('/kaggle/input'):\n",
    "    for filename in filenames:\n",
    "        print(os.path.join(dirname, filename))\n",
    "\n",
    "# You can write up to 20GB to the current directory (/kaggle/working/) that gets preserved as output when you create a version using \"Save & Run All\" \n",
    "# You can also write temporary files to /kaggle/temp/, but they won't be saved outside of the current session"
   ]
  },
  {
   "cell_type": "code",
   "execution_count": 2,
   "id": "6ef172dd",
   "metadata": {
    "execution": {
     "iopub.execute_input": "2021-11-10T22:28:58.625843Z",
     "iopub.status.busy": "2021-11-10T22:28:58.625217Z",
     "iopub.status.idle": "2021-11-10T22:28:58.628370Z",
     "shell.execute_reply": "2021-11-10T22:28:58.627914Z",
     "shell.execute_reply.started": "2021-10-08T01:21:51.477707Z"
    },
    "papermill": {
     "duration": 0.051967,
     "end_time": "2021-11-10T22:28:58.628509",
     "exception": false,
     "start_time": "2021-11-10T22:28:58.576542",
     "status": "completed"
    },
    "tags": []
   },
   "outputs": [],
   "source": [
    "def comma_to_dot(df,j):\n",
    "    \n",
    "    l = df.iloc[:,j].tolist()\n",
    "    \n",
    "    new = []\n",
    "    \n",
    "    for i in range(len(l)):\n",
    "            \n",
    "        new.append(float(str(l[i]).replace(',', '.')))\n",
    "            \n",
    "    df.iloc[:,j] = new"
   ]
  },
  {
   "cell_type": "code",
   "execution_count": 3,
   "id": "0ed3f17b",
   "metadata": {
    "execution": {
     "iopub.execute_input": "2021-11-10T22:28:58.723139Z",
     "iopub.status.busy": "2021-11-10T22:28:58.722474Z",
     "iopub.status.idle": "2021-11-10T22:28:59.699373Z",
     "shell.execute_reply": "2021-11-10T22:28:59.699976Z",
     "shell.execute_reply.started": "2021-10-08T01:21:51.485461Z"
    },
    "papermill": {
     "duration": 1.026947,
     "end_time": "2021-11-10T22:28:59.700168",
     "exception": false,
     "start_time": "2021-11-10T22:28:58.673221",
     "status": "completed"
    },
    "tags": []
   },
   "outputs": [],
   "source": [
    "df = pd.read_csv('../input/completo-definitivo/TABLE.xlsx - TABLE.csv')\n",
    "\n",
    "for j in range(1,len(df.columns.tolist())):\n",
    "\n",
    "    comma_to_dot(df,j)  #substituído ponto por vírgula\n",
    "    \n",
    "df = df.dropna(axis=1, how='all')\n",
    "df = df.fillna(0)"
   ]
  },
  {
   "cell_type": "code",
   "execution_count": 4,
   "id": "1acf86e4",
   "metadata": {
    "execution": {
     "iopub.execute_input": "2021-11-10T22:28:59.814968Z",
     "iopub.status.busy": "2021-11-10T22:28:59.814334Z",
     "iopub.status.idle": "2021-11-10T22:28:59.845953Z",
     "shell.execute_reply": "2021-11-10T22:28:59.846470Z",
     "shell.execute_reply.started": "2021-10-08T01:21:52.601234Z"
    },
    "papermill": {
     "duration": 0.085332,
     "end_time": "2021-11-10T22:28:59.846659",
     "exception": false,
     "start_time": "2021-11-10T22:28:59.761327",
     "status": "completed"
    },
    "tags": []
   },
   "outputs": [
    {
     "data": {
      "text/html": [
       "<div>\n",
       "<style scoped>\n",
       "    .dataframe tbody tr th:only-of-type {\n",
       "        vertical-align: middle;\n",
       "    }\n",
       "\n",
       "    .dataframe tbody tr th {\n",
       "        vertical-align: top;\n",
       "    }\n",
       "\n",
       "    .dataframe thead th {\n",
       "        text-align: right;\n",
       "    }\n",
       "</style>\n",
       "<table border=\"1\" class=\"dataframe\">\n",
       "  <thead>\n",
       "    <tr style=\"text-align: right;\">\n",
       "      <th></th>\n",
       "      <th>OIL</th>\n",
       "      <th>IFT</th>\n",
       "      <th>CONCENTRATION</th>\n",
       "      <th>AD.WHB.ANTHRACENE.DAT</th>\n",
       "      <th>AD.WHB.BENZENE.DAT</th>\n",
       "      <th>AD.WHB.BENZOPYRENE.DAT</th>\n",
       "      <th>AD.WHB.M-XYLENE.DAT</th>\n",
       "      <th>AD.WHB.NAPHTHALENE.DAT</th>\n",
       "      <th>AD.WHB.O-XYLENE.DAT</th>\n",
       "      <th>AD.WHB.PHENANTHERENE.DAT</th>\n",
       "      <th>...</th>\n",
       "      <th>WAT.ORD.VECT1.Z.dat</th>\n",
       "      <th>WAT.ORD.VECT2.X.dat</th>\n",
       "      <th>WAT.ORD.VECT2.Y.dat</th>\n",
       "      <th>WAT.ORD.VECT2.Z.dat</th>\n",
       "      <th>WHB.DAT</th>\n",
       "      <th>WO.HC.DAT</th>\n",
       "      <th>WO.OH.DAT</th>\n",
       "      <th>WO.TOT.DAT</th>\n",
       "      <th>WW.HB.DAT</th>\n",
       "      <th>WWHB.DAT</th>\n",
       "    </tr>\n",
       "  </thead>\n",
       "  <tbody>\n",
       "    <tr>\n",
       "      <th>0</th>\n",
       "      <td>heptane-brine</td>\n",
       "      <td>52.365135</td>\n",
       "      <td>1.0</td>\n",
       "      <td>0.0</td>\n",
       "      <td>0.0</td>\n",
       "      <td>0.0</td>\n",
       "      <td>0.0</td>\n",
       "      <td>0.0</td>\n",
       "      <td>0.0</td>\n",
       "      <td>0.0</td>\n",
       "      <td>...</td>\n",
       "      <td>-0.022229</td>\n",
       "      <td>0.036508</td>\n",
       "      <td>0.034620</td>\n",
       "      <td>-0.071128</td>\n",
       "      <td>0.0</td>\n",
       "      <td>4.493488</td>\n",
       "      <td>6.113280</td>\n",
       "      <td>6.197603</td>\n",
       "      <td>2.279085</td>\n",
       "      <td>2.279085</td>\n",
       "    </tr>\n",
       "    <tr>\n",
       "      <th>1</th>\n",
       "      <td>heptane-brine</td>\n",
       "      <td>51.956841</td>\n",
       "      <td>3.5</td>\n",
       "      <td>0.0</td>\n",
       "      <td>0.0</td>\n",
       "      <td>0.0</td>\n",
       "      <td>0.0</td>\n",
       "      <td>0.0</td>\n",
       "      <td>0.0</td>\n",
       "      <td>0.0</td>\n",
       "      <td>...</td>\n",
       "      <td>-0.005300</td>\n",
       "      <td>0.032287</td>\n",
       "      <td>0.029246</td>\n",
       "      <td>-0.061533</td>\n",
       "      <td>0.0</td>\n",
       "      <td>4.449064</td>\n",
       "      <td>6.093612</td>\n",
       "      <td>6.184882</td>\n",
       "      <td>2.266388</td>\n",
       "      <td>2.266388</td>\n",
       "    </tr>\n",
       "    <tr>\n",
       "      <th>2</th>\n",
       "      <td>heptane-brine</td>\n",
       "      <td>52.675557</td>\n",
       "      <td>5.0</td>\n",
       "      <td>0.0</td>\n",
       "      <td>0.0</td>\n",
       "      <td>0.0</td>\n",
       "      <td>0.0</td>\n",
       "      <td>0.0</td>\n",
       "      <td>0.0</td>\n",
       "      <td>0.0</td>\n",
       "      <td>...</td>\n",
       "      <td>-0.006419</td>\n",
       "      <td>0.026112</td>\n",
       "      <td>0.033939</td>\n",
       "      <td>-0.060050</td>\n",
       "      <td>0.0</td>\n",
       "      <td>4.466210</td>\n",
       "      <td>6.110209</td>\n",
       "      <td>6.205236</td>\n",
       "      <td>2.248017</td>\n",
       "      <td>2.248017</td>\n",
       "    </tr>\n",
       "    <tr>\n",
       "      <th>3</th>\n",
       "      <td>heptane-brine</td>\n",
       "      <td>51.308806</td>\n",
       "      <td>1.0</td>\n",
       "      <td>0.0</td>\n",
       "      <td>0.0</td>\n",
       "      <td>0.0</td>\n",
       "      <td>0.0</td>\n",
       "      <td>0.0</td>\n",
       "      <td>0.0</td>\n",
       "      <td>0.0</td>\n",
       "      <td>...</td>\n",
       "      <td>-0.007872</td>\n",
       "      <td>0.026928</td>\n",
       "      <td>0.032474</td>\n",
       "      <td>-0.059402</td>\n",
       "      <td>0.0</td>\n",
       "      <td>4.486348</td>\n",
       "      <td>6.113370</td>\n",
       "      <td>6.198278</td>\n",
       "      <td>2.268074</td>\n",
       "      <td>2.268074</td>\n",
       "    </tr>\n",
       "    <tr>\n",
       "      <th>4</th>\n",
       "      <td>heptane-brine</td>\n",
       "      <td>52.359999</td>\n",
       "      <td>3.5</td>\n",
       "      <td>0.0</td>\n",
       "      <td>0.0</td>\n",
       "      <td>0.0</td>\n",
       "      <td>0.0</td>\n",
       "      <td>0.0</td>\n",
       "      <td>0.0</td>\n",
       "      <td>0.0</td>\n",
       "      <td>...</td>\n",
       "      <td>-0.007227</td>\n",
       "      <td>0.031506</td>\n",
       "      <td>0.033387</td>\n",
       "      <td>-0.064894</td>\n",
       "      <td>0.0</td>\n",
       "      <td>4.472240</td>\n",
       "      <td>6.087938</td>\n",
       "      <td>6.177224</td>\n",
       "      <td>2.240587</td>\n",
       "      <td>2.240587</td>\n",
       "    </tr>\n",
       "  </tbody>\n",
       "</table>\n",
       "<p>5 rows × 844 columns</p>\n",
       "</div>"
      ],
      "text/plain": [
       "              OIL        IFT  CONCENTRATION  AD.WHB.ANTHRACENE.DAT  \\\n",
       "0   heptane-brine  52.365135            1.0                    0.0   \n",
       "1   heptane-brine  51.956841            3.5                    0.0   \n",
       "2   heptane-brine  52.675557            5.0                    0.0   \n",
       "3   heptane-brine  51.308806            1.0                    0.0   \n",
       "4   heptane-brine  52.359999            3.5                    0.0   \n",
       "\n",
       "   AD.WHB.BENZENE.DAT  AD.WHB.BENZOPYRENE.DAT  AD.WHB.M-XYLENE.DAT  \\\n",
       "0                 0.0                     0.0                  0.0   \n",
       "1                 0.0                     0.0                  0.0   \n",
       "2                 0.0                     0.0                  0.0   \n",
       "3                 0.0                     0.0                  0.0   \n",
       "4                 0.0                     0.0                  0.0   \n",
       "\n",
       "   AD.WHB.NAPHTHALENE.DAT  AD.WHB.O-XYLENE.DAT  AD.WHB.PHENANTHERENE.DAT  ...  \\\n",
       "0                     0.0                  0.0                       0.0  ...   \n",
       "1                     0.0                  0.0                       0.0  ...   \n",
       "2                     0.0                  0.0                       0.0  ...   \n",
       "3                     0.0                  0.0                       0.0  ...   \n",
       "4                     0.0                  0.0                       0.0  ...   \n",
       "\n",
       "   WAT.ORD.VECT1.Z.dat  WAT.ORD.VECT2.X.dat  WAT.ORD.VECT2.Y.dat  \\\n",
       "0            -0.022229             0.036508             0.034620   \n",
       "1            -0.005300             0.032287             0.029246   \n",
       "2            -0.006419             0.026112             0.033939   \n",
       "3            -0.007872             0.026928             0.032474   \n",
       "4            -0.007227             0.031506             0.033387   \n",
       "\n",
       "   WAT.ORD.VECT2.Z.dat  WHB.DAT  WO.HC.DAT  WO.OH.DAT  WO.TOT.DAT  WW.HB.DAT  \\\n",
       "0            -0.071128      0.0   4.493488   6.113280    6.197603   2.279085   \n",
       "1            -0.061533      0.0   4.449064   6.093612    6.184882   2.266388   \n",
       "2            -0.060050      0.0   4.466210   6.110209    6.205236   2.248017   \n",
       "3            -0.059402      0.0   4.486348   6.113370    6.198278   2.268074   \n",
       "4            -0.064894      0.0   4.472240   6.087938    6.177224   2.240587   \n",
       "\n",
       "   WWHB.DAT  \n",
       "0  2.279085  \n",
       "1  2.266388  \n",
       "2  2.248017  \n",
       "3  2.268074  \n",
       "4  2.240587  \n",
       "\n",
       "[5 rows x 844 columns]"
      ]
     },
     "execution_count": 4,
     "metadata": {},
     "output_type": "execute_result"
    }
   ],
   "source": [
    "df.head()"
   ]
  },
  {
   "cell_type": "markdown",
   "id": "aa7ca3fd",
   "metadata": {
    "papermill": {
     "duration": 0.044219,
     "end_time": "2021-11-10T22:28:59.935577",
     "exception": false,
     "start_time": "2021-11-10T22:28:59.891358",
     "status": "completed"
    },
    "tags": []
   },
   "source": [
    "# XGBoost"
   ]
  },
  {
   "cell_type": "code",
   "execution_count": 5,
   "id": "43c77c16",
   "metadata": {
    "execution": {
     "iopub.execute_input": "2021-11-10T22:29:00.029822Z",
     "iopub.status.busy": "2021-11-10T22:29:00.029174Z",
     "iopub.status.idle": "2021-11-10T22:29:01.138128Z",
     "shell.execute_reply": "2021-11-10T22:29:01.138700Z",
     "shell.execute_reply.started": "2021-10-08T01:21:52.643536Z"
    },
    "papermill": {
     "duration": 1.158717,
     "end_time": "2021-11-10T22:29:01.138883",
     "exception": false,
     "start_time": "2021-11-10T22:28:59.980166",
     "status": "completed"
    },
    "tags": []
   },
   "outputs": [],
   "source": [
    "import sklearn\n",
    "from pylab import rcParams\n",
    "import seaborn as sns\n",
    "import matplotlib.pyplot as plt\n",
    "from xgboost import XGBRegressor\n",
    "from sklearn.metrics import mean_squared_error"
   ]
  },
  {
   "cell_type": "code",
   "execution_count": 6,
   "id": "a9adee36",
   "metadata": {
    "execution": {
     "iopub.execute_input": "2021-11-10T22:29:01.231394Z",
     "iopub.status.busy": "2021-11-10T22:29:01.230826Z",
     "iopub.status.idle": "2021-11-10T22:29:01.277121Z",
     "shell.execute_reply": "2021-11-10T22:29:01.277874Z",
     "shell.execute_reply.started": "2021-10-08T01:21:53.771213Z"
    },
    "papermill": {
     "duration": 0.094218,
     "end_time": "2021-11-10T22:29:01.278158",
     "exception": false,
     "start_time": "2021-11-10T22:29:01.183940",
     "status": "completed"
    },
    "tags": []
   },
   "outputs": [],
   "source": [
    "from sklearn.preprocessing import StandardScaler\n",
    "from sklearn.model_selection import train_test_split\n",
    "\n",
    "X = df.drop([' OIL','IFT'], axis=1)\n",
    "y = pd.DataFrame(df['IFT'])\n",
    "\n",
    "X_train, X_test, y_train, y_test = train_test_split(X, y, test_size=0.2, random_state=0)\n",
    "\n",
    "ss_x = StandardScaler()\n",
    "ss_y = StandardScaler()\n",
    "\n",
    "X_train_scaled = ss_x.fit_transform(X_train)\n",
    "X_test_scaled = ss_x.transform(X_test)\n",
    "y_train_scaled = ss_y.fit_transform(y_train)\n",
    "y_test_scaled = ss_y.transform(y_test)"
   ]
  },
  {
   "cell_type": "code",
   "execution_count": 7,
   "id": "50067f6a",
   "metadata": {
    "execution": {
     "iopub.execute_input": "2021-11-10T22:29:01.389919Z",
     "iopub.status.busy": "2021-11-10T22:29:01.389273Z",
     "iopub.status.idle": "2021-11-10T22:29:01.677005Z",
     "shell.execute_reply": "2021-11-10T22:29:01.676410Z",
     "shell.execute_reply.started": "2021-10-08T01:21:53.824764Z"
    },
    "papermill": {
     "duration": 0.340757,
     "end_time": "2021-11-10T22:29:01.677156",
     "exception": false,
     "start_time": "2021-11-10T22:29:01.336399",
     "status": "completed"
    },
    "tags": []
   },
   "outputs": [],
   "source": [
    "def train_model(params):\n",
    "    \n",
    "    n_estimators = params[0]    \n",
    "    learning_rate = params[1]\n",
    "    max_depth = params[2]\n",
    "    \n",
    "    print(params, '\\n')\n",
    "    \n",
    "    model = XGBRegressor(n_estimators = n_estimators,\n",
    "                             learning_rate = learning_rate,\n",
    "                             max_depth = max_depth,\n",
    "                             random_state=0)\n",
    "    \n",
    "    model.fit(X_train_scaled, y_train_scaled)\n",
    "    \n",
    "    predicted_scaled = model.predict(X_test_scaled)\n",
    "\n",
    "    y_test = ss_y.inverse_transform(y_test_scaled.reshape(-1, 1)).reshape(-1,)\n",
    "    predicted = ss_y.inverse_transform(predicted_scaled.reshape(-1, 1)).reshape(-1,)\n",
    "    \n",
    "    errors = sklearn.metrics.mean_absolute_error(y_test, predicted)\n",
    "    \n",
    "    return errors\n",
    "    \n",
    "    \n",
    "space = [(100, 1000), # n_estimators\n",
    "         (0.0001, 0.5, 'log-uniform'),  # learning_rate \n",
    "         (2, 7, 'log-uniform')]  # max_depth\n",
    "\n",
    "from skopt import gp_minimize\n",
    "#resultados_gp = gp_minimize(train_model, space, random_state=1, verbose=1, n_calls=50, n_random_starts=25)"
   ]
  },
  {
   "cell_type": "code",
   "execution_count": 8,
   "id": "69107c91",
   "metadata": {
    "execution": {
     "iopub.execute_input": "2021-11-10T22:29:01.784408Z",
     "iopub.status.busy": "2021-11-10T22:29:01.783701Z",
     "iopub.status.idle": "2021-11-10T22:29:03.730967Z",
     "shell.execute_reply": "2021-11-10T22:29:03.729736Z",
     "shell.execute_reply.started": "2021-10-08T01:21:54.083821Z"
    },
    "papermill": {
     "duration": 1.997739,
     "end_time": "2021-11-10T22:29:03.731134",
     "exception": false,
     "start_time": "2021-11-10T22:29:01.733395",
     "status": "completed"
    },
    "tags": []
   },
   "outputs": [],
   "source": [
    "#[1000, 0.10745087245052558, 2] \n",
    "\n",
    "model = XGBRegressor(n_estimators = 1000,\n",
    "                             learning_rate = 0.10745,\n",
    "                             max_depth = 2,\n",
    "                             random_state=0)\n",
    "model.fit(X_train_scaled, y_train_scaled)\n",
    "\n",
    "\n",
    "importances = pd.DataFrame(data={\n",
    "    'Attribute': X_train.columns,\n",
    "    'Importance': model.feature_importances_\n",
    "})\n",
    "importances = importances.sort_values(by='Importance', ascending=False)\n",
    "\n",
    "importances = importances[importances['Importance'] >= 0.01]"
   ]
  },
  {
   "cell_type": "code",
   "execution_count": 9,
   "id": "942538e6",
   "metadata": {
    "execution": {
     "iopub.execute_input": "2021-11-10T22:29:03.827697Z",
     "iopub.status.busy": "2021-11-10T22:29:03.826906Z",
     "iopub.status.idle": "2021-11-10T22:29:03.834430Z",
     "shell.execute_reply": "2021-11-10T22:29:03.835018Z",
     "shell.execute_reply.started": "2021-10-08T01:21:56.370197Z"
    },
    "papermill": {
     "duration": 0.058463,
     "end_time": "2021-11-10T22:29:03.835196",
     "exception": false,
     "start_time": "2021-11-10T22:29:03.776733",
     "status": "completed"
    },
    "tags": []
   },
   "outputs": [
    {
     "name": "stdout",
     "output_type": "stream",
     "text": [
      "0.3842809283128007\n"
     ]
    }
   ],
   "source": [
    "# example of calculate the mean absolute error\n",
    "from sklearn.metrics import mean_absolute_error\n",
    "\n",
    "# make predictions for test data\n",
    "predicted_scaled = model.predict(X_test_scaled)\n",
    "\n",
    "y_test = ss_y.inverse_transform(y_test_scaled.reshape(-1, 1)).reshape(-1,)\n",
    "predicted = ss_y.inverse_transform(predicted_scaled.reshape(-1, 1)).reshape(-1,)\n",
    "\n",
    "# calculate errors\n",
    "errors = mean_absolute_error(y_test, predicted)\n",
    "# report error\n",
    "print(errors)\n",
    "\n",
    "#erro de uma unidade"
   ]
  },
  {
   "cell_type": "code",
   "execution_count": 10,
   "id": "676d3e86",
   "metadata": {
    "execution": {
     "iopub.execute_input": "2021-11-10T22:29:03.927991Z",
     "iopub.status.busy": "2021-11-10T22:29:03.927311Z",
     "iopub.status.idle": "2021-11-10T22:29:03.933570Z",
     "shell.execute_reply": "2021-11-10T22:29:03.934127Z",
     "shell.execute_reply.started": "2021-10-08T01:21:56.386921Z"
    },
    "papermill": {
     "duration": 0.054055,
     "end_time": "2021-11-10T22:29:03.934312",
     "exception": false,
     "start_time": "2021-11-10T22:29:03.880257",
     "status": "completed"
    },
    "tags": []
   },
   "outputs": [
    {
     "name": "stdout",
     "output_type": "stream",
     "text": [
      "r2 score for perfect model is 0.9808154944732036\n"
     ]
    }
   ],
   "source": [
    "r2 = sklearn.metrics.r2_score(y_test, predicted)\n",
    "print('r2 score for perfect model is', r2)"
   ]
  },
  {
   "cell_type": "code",
   "execution_count": 11,
   "id": "fc10d7ed",
   "metadata": {
    "execution": {
     "iopub.execute_input": "2021-11-10T22:29:04.030637Z",
     "iopub.status.busy": "2021-11-10T22:29:04.029954Z",
     "iopub.status.idle": "2021-11-10T22:29:04.246706Z",
     "shell.execute_reply": "2021-11-10T22:29:04.246048Z",
     "shell.execute_reply.started": "2021-10-08T01:21:56.39686Z"
    },
    "papermill": {
     "duration": 0.265874,
     "end_time": "2021-11-10T22:29:04.246861",
     "exception": false,
     "start_time": "2021-11-10T22:29:03.980987",
     "status": "completed"
    },
    "tags": []
   },
   "outputs": [
    {
     "data": {
      "image/png": "[encoded data removed]",
      "text/plain": [
       "<Figure size 360x360 with 1 Axes>"
      ]
     },
     "metadata": {
      "needs_background": "light"
     },
     "output_type": "display_data"
    }
   ],
   "source": [
    "rcParams['figure.figsize'] = 5, 5\n",
    "\n",
    "\n",
    "fig, ax = plt.subplots()\n",
    "x = range(40,55)\n",
    "y=x\n",
    "\n",
    "ax.plot(x,y,\"r--\")\n",
    "ax.scatter(y_test, predicted)\n",
    "\n",
    "ax.set(xlabel='Value calculated', ylabel='Expected Value',\n",
    "       title='MAE=0.38 and R2=98,1%')\n",
    "\n",
    "plt.suptitle(\"Correlation of Interfacial Tension\", y=1, fontsize=14)\n",
    "\n",
    "ax.grid()\n",
    "plt.legend()\n",
    "plt.show()"
   ]
  },
  {
   "cell_type": "code",
   "execution_count": 12,
   "id": "b4a2cabe",
   "metadata": {
    "execution": {
     "iopub.execute_input": "2021-11-10T22:29:04.473036Z",
     "iopub.status.busy": "2021-11-10T22:29:04.346936Z",
     "iopub.status.idle": "2021-11-10T22:29:04.619565Z",
     "shell.execute_reply": "2021-11-10T22:29:04.619050Z",
     "shell.execute_reply.started": "2021-10-08T01:21:56.75328Z"
    },
    "papermill": {
     "duration": 0.32573,
     "end_time": "2021-11-10T22:29:04.619721",
     "exception": false,
     "start_time": "2021-11-10T22:29:04.293991",
     "status": "completed"
    },
    "tags": []
   },
   "outputs": [
    {
     "data": {
      "image/png": "[encoded data removed]",
      "text/plain": [
       "<Figure size 360x360 with 1 Axes>"
      ]
     },
     "metadata": {
      "needs_background": "light"
     },
     "output_type": "display_data"
    }
   ],
   "source": [
    "rcParams['figure.figsize'] = 5,5\n",
    "\n",
    "plt.bar(x=importances['Attribute'], height=importances['Importance'], color='#087E8B')\n",
    "\n",
    "\n",
    "plt.title('[XGB Regression] Oil Model - Feature Importances', size=12)\n",
    "plt.xticks(rotation='vertical')\n",
    "plt.show()"
   ]
  },
  {
   "cell_type": "code",
   "execution_count": 13,
   "id": "a270c381",
   "metadata": {
    "execution": {
     "iopub.execute_input": "2021-11-10T22:29:04.722610Z",
     "iopub.status.busy": "2021-11-10T22:29:04.721847Z",
     "iopub.status.idle": "2021-11-10T22:29:04.725732Z",
     "shell.execute_reply": "2021-11-10T22:29:04.725152Z",
     "shell.execute_reply.started": "2021-10-08T01:21:56.950067Z"
    },
    "papermill": {
     "duration": 0.059425,
     "end_time": "2021-11-10T22:29:04.725873",
     "exception": false,
     "start_time": "2021-11-10T22:29:04.666448",
     "status": "completed"
    },
    "tags": []
   },
   "outputs": [
    {
     "data": {
      "text/html": [
       "<div>\n",
       "<style scoped>\n",
       "    .dataframe tbody tr th:only-of-type {\n",
       "        vertical-align: middle;\n",
       "    }\n",
       "\n",
       "    .dataframe tbody tr th {\n",
       "        vertical-align: top;\n",
       "    }\n",
       "\n",
       "    .dataframe thead th {\n",
       "        text-align: right;\n",
       "    }\n",
       "</style>\n",
       "<table border=\"1\" class=\"dataframe\">\n",
       "  <thead>\n",
       "    <tr style=\"text-align: right;\">\n",
       "      <th></th>\n",
       "      <th>Attribute</th>\n",
       "      <th>Importance</th>\n",
       "    </tr>\n",
       "  </thead>\n",
       "  <tbody>\n",
       "    <tr>\n",
       "      <th>255</th>\n",
       "      <td>DENS.10.dat</td>\n",
       "      <td>0.312081</td>\n",
       "    </tr>\n",
       "    <tr>\n",
       "      <th>268</th>\n",
       "      <td>DENS.37.dat</td>\n",
       "      <td>0.138638</td>\n",
       "    </tr>\n",
       "    <tr>\n",
       "      <th>438</th>\n",
       "      <td>ENT.VECT2.Z.TOLUENE.DAT</td>\n",
       "      <td>0.134900</td>\n",
       "    </tr>\n",
       "    <tr>\n",
       "      <th>256</th>\n",
       "      <td>DENS.11.dat</td>\n",
       "      <td>0.090996</td>\n",
       "    </tr>\n",
       "    <tr>\n",
       "      <th>799</th>\n",
       "      <td>SIGMA.DAT</td>\n",
       "      <td>0.083069</td>\n",
       "    </tr>\n",
       "    <tr>\n",
       "      <th>802</th>\n",
       "      <td>TDENS.PARAFFINIC.dat</td>\n",
       "      <td>0.071121</td>\n",
       "    </tr>\n",
       "    <tr>\n",
       "      <th>384</th>\n",
       "      <td>ENT.VECT1.Z.TOLUENE.DAT</td>\n",
       "      <td>0.037654</td>\n",
       "    </tr>\n",
       "    <tr>\n",
       "      <th>118</th>\n",
       "      <td>CUR.VECT1.Y.TOLUENE.dat</td>\n",
       "      <td>0.019095</td>\n",
       "    </tr>\n",
       "    <tr>\n",
       "      <th>17</th>\n",
       "      <td>ARO.CUR.VECT2.X.dat</td>\n",
       "      <td>0.018978</td>\n",
       "    </tr>\n",
       "    <tr>\n",
       "      <th>836</th>\n",
       "      <td>WHB.DAT</td>\n",
       "      <td>0.014384</td>\n",
       "    </tr>\n",
       "    <tr>\n",
       "      <th>273</th>\n",
       "      <td>DENS.7.dat</td>\n",
       "      <td>0.014325</td>\n",
       "    </tr>\n",
       "  </tbody>\n",
       "</table>\n",
       "</div>"
      ],
      "text/plain": [
       "                   Attribute  Importance\n",
       "255              DENS.10.dat    0.312081\n",
       "268              DENS.37.dat    0.138638\n",
       "438  ENT.VECT2.Z.TOLUENE.DAT    0.134900\n",
       "256              DENS.11.dat    0.090996\n",
       "799                SIGMA.DAT    0.083069\n",
       "802     TDENS.PARAFFINIC.dat    0.071121\n",
       "384  ENT.VECT1.Z.TOLUENE.DAT    0.037654\n",
       "118  CUR.VECT1.Y.TOLUENE.dat    0.019095\n",
       "17       ARO.CUR.VECT2.X.dat    0.018978\n",
       "836                  WHB.DAT    0.014384\n",
       "273               DENS.7.dat    0.014325"
      ]
     },
     "execution_count": 13,
     "metadata": {},
     "output_type": "execute_result"
    }
   ],
   "source": [
    "importances"
   ]
  },
  {
   "cell_type": "code",
   "execution_count": 14,
   "id": "f98019fd",
   "metadata": {
    "execution": {
     "iopub.execute_input": "2021-11-10T22:29:04.852861Z",
     "iopub.status.busy": "2021-11-10T22:29:04.833444Z",
     "iopub.status.idle": "2021-11-10T22:29:05.027070Z",
     "shell.execute_reply": "2021-11-10T22:29:05.027539Z",
     "shell.execute_reply.started": "2021-10-08T01:21:56.964288Z"
    },
    "papermill": {
     "duration": 0.254573,
     "end_time": "2021-11-10T22:29:05.027753",
     "exception": false,
     "start_time": "2021-11-10T22:29:04.773180",
     "status": "completed"
    },
    "tags": []
   },
   "outputs": [
    {
     "data": {
      "image/png": "[encoded data removed]",
      "text/plain": [
       "<Figure size 432x432 with 1 Axes>"
      ]
     },
     "metadata": {
      "needs_background": "light"
     },
     "output_type": "display_data"
    }
   ],
   "source": [
    "rcParams['figure.figsize'] = 6, 6\n",
    "\n",
    "ax = sns.boxplot(x = \" OIL\", y = 'DENS.37.dat', data = df)"
   ]
  },
  {
   "cell_type": "code",
   "execution_count": 15,
   "id": "9ed1b7eb",
   "metadata": {
    "execution": {
     "iopub.execute_input": "2021-11-10T22:29:05.169546Z",
     "iopub.status.busy": "2021-11-10T22:29:05.148347Z",
     "iopub.status.idle": "2021-11-10T22:29:05.339861Z",
     "shell.execute_reply": "2021-11-10T22:29:05.339199Z",
     "shell.execute_reply.started": "2021-10-08T01:21:57.205144Z"
    },
    "papermill": {
     "duration": 0.264171,
     "end_time": "2021-11-10T22:29:05.340006",
     "exception": false,
     "start_time": "2021-11-10T22:29:05.075835",
     "status": "completed"
    },
    "tags": []
   },
   "outputs": [
    {
     "data": {
      "image/png": "[encoded data removed]",
      "text/plain": [
       "<Figure size 432x432 with 1 Axes>"
      ]
     },
     "metadata": {
      "needs_background": "light"
     },
     "output_type": "display_data"
    }
   ],
   "source": [
    "rcParams['figure.figsize'] = 6, 6\n",
    "\n",
    "ax = sns.boxplot(x = \" OIL\", y = 'DENS.38.dat', data = df)"
   ]
  },
  {
   "cell_type": "code",
   "execution_count": 16,
   "id": "118b9df6",
   "metadata": {
    "execution": {
     "iopub.execute_input": "2021-11-10T22:29:05.468466Z",
     "iopub.status.busy": "2021-11-10T22:29:05.444337Z",
     "iopub.status.idle": "2021-11-10T22:29:05.661128Z",
     "shell.execute_reply": "2021-11-10T22:29:05.660431Z",
     "shell.execute_reply.started": "2021-10-08T01:21:57.443554Z"
    },
    "papermill": {
     "duration": 0.271811,
     "end_time": "2021-11-10T22:29:05.661297",
     "exception": false,
     "start_time": "2021-11-10T22:29:05.389486",
     "status": "completed"
    },
    "tags": []
   },
   "outputs": [
    {
     "data": {
      "image/png": "[encoded data removed]",
      "text/plain": [
       "<Figure size 432x432 with 1 Axes>"
      ]
     },
     "metadata": {
      "needs_background": "light"
     },
     "output_type": "display_data"
    }
   ],
   "source": [
    "rcParams['figure.figsize'] = 6, 6\n",
    "ax = sns.boxplot(x = \" OIL\", y = 'DENS.10.dat', data = df)"
   ]
  },
  {
   "cell_type": "code",
   "execution_count": 17,
   "id": "acf9fbc3",
   "metadata": {
    "execution": {
     "iopub.execute_input": "2021-11-10T22:29:05.771736Z",
     "iopub.status.busy": "2021-11-10T22:29:05.770717Z",
     "iopub.status.idle": "2021-11-10T22:29:05.984930Z",
     "shell.execute_reply": "2021-11-10T22:29:05.984384Z",
     "shell.execute_reply.started": "2021-10-08T01:21:57.681316Z"
    },
    "papermill": {
     "duration": 0.272744,
     "end_time": "2021-11-10T22:29:05.985083",
     "exception": false,
     "start_time": "2021-11-10T22:29:05.712339",
     "status": "completed"
    },
    "tags": []
   },
   "outputs": [
    {
     "data": {
      "text/plain": [
       "(array([0, 1, 2, 3, 4]),\n",
       " [Text(0, 0, ' heptane-brine'),\n",
       "  Text(1, 0, ' heptol-brine'),\n",
       "  Text(2, 0, ' light-brine'),\n",
       "  Text(3, 0, ' medium-brine'),\n",
       "  Text(4, 0, ' toluene-brine')])"
      ]
     },
     "execution_count": 17,
     "metadata": {},
     "output_type": "execute_result"
    },
    {
     "data": {
      "image/png": "[encoded data removed]",
      "text/plain": [
       "<Figure size 432x432 with 1 Axes>"
      ]
     },
     "metadata": {
      "needs_background": "light"
     },
     "output_type": "display_data"
    }
   ],
   "source": [
    "rcParams['figure.figsize'] = 6, 6\n",
    "ax = sns.boxplot(x = \" OIL\", y = 'DENS.11.dat', data = df)\n",
    "plt.xticks(rotation='vertical')"
   ]
  },
  {
   "cell_type": "code",
   "execution_count": 18,
   "id": "553903b4",
   "metadata": {
    "execution": {
     "iopub.execute_input": "2021-11-10T22:29:06.092095Z",
     "iopub.status.busy": "2021-11-10T22:29:06.091109Z",
     "iopub.status.idle": "2021-11-10T22:29:06.285859Z",
     "shell.execute_reply": "2021-11-10T22:29:06.286268Z",
     "shell.execute_reply.started": "2021-10-08T01:21:57.925447Z"
    },
    "papermill": {
     "duration": 0.24939,
     "end_time": "2021-11-10T22:29:06.286447",
     "exception": false,
     "start_time": "2021-11-10T22:29:06.037057",
     "status": "completed"
    },
    "tags": []
   },
   "outputs": [
    {
     "data": {
      "image/png": "[encoded data removed]",
      "text/plain": [
       "<Figure size 432x432 with 1 Axes>"
      ]
     },
     "metadata": {
      "needs_background": "light"
     },
     "output_type": "display_data"
    }
   ],
   "source": [
    "rcParams['figure.figsize'] = 6, 6\n",
    "ax = sns.boxplot(x = \" OIL\", y = 'SIGMA.DAT', data = df)"
   ]
  },
  {
   "cell_type": "code",
   "execution_count": 19,
   "id": "2ec7b23d",
   "metadata": {
    "execution": {
     "iopub.execute_input": "2021-11-10T22:29:06.392085Z",
     "iopub.status.busy": "2021-11-10T22:29:06.391178Z",
     "iopub.status.idle": "2021-11-10T22:29:06.769221Z",
     "shell.execute_reply": "2021-11-10T22:29:06.769656Z",
     "shell.execute_reply.started": "2021-10-08T01:21:58.152432Z"
    },
    "papermill": {
     "duration": 0.431985,
     "end_time": "2021-11-10T22:29:06.769832",
     "exception": false,
     "start_time": "2021-11-10T22:29:06.337847",
     "status": "completed"
    },
    "tags": []
   },
   "outputs": [
    {
     "data": {
      "image/png": "[encoded data removed]",
      "text/plain": [
       "<Figure size 432x432 with 1 Axes>"
      ]
     },
     "metadata": {
      "needs_background": "light"
     },
     "output_type": "display_data"
    }
   ],
   "source": [
    "rcParams['figure.figsize'] = 6, 6\n",
    "ax = sns.violinplot(x = \" OIL\", y = 'SIGMA.DAT', data = df)"
   ]
  },
  {
   "cell_type": "code",
   "execution_count": 20,
   "id": "1e2b4365",
   "metadata": {
    "execution": {
     "iopub.execute_input": "2021-11-10T22:29:06.877264Z",
     "iopub.status.busy": "2021-11-10T22:29:06.876279Z",
     "iopub.status.idle": "2021-11-10T22:29:07.081450Z",
     "shell.execute_reply": "2021-11-10T22:29:07.081943Z",
     "shell.execute_reply.started": "2021-10-08T01:21:58.558742Z"
    },
    "papermill": {
     "duration": 0.260462,
     "end_time": "2021-11-10T22:29:07.082134",
     "exception": false,
     "start_time": "2021-11-10T22:29:06.821672",
     "status": "completed"
    },
    "tags": []
   },
   "outputs": [
    {
     "data": {
      "text/plain": [
       "(array([0, 1, 2, 3, 4]),\n",
       " [Text(0, 0, ' heptane-brine'),\n",
       "  Text(1, 0, ' heptol-brine'),\n",
       "  Text(2, 0, ' light-brine'),\n",
       "  Text(3, 0, ' medium-brine'),\n",
       "  Text(4, 0, ' toluene-brine')])"
      ]
     },
     "execution_count": 20,
     "metadata": {},
     "output_type": "execute_result"
    },
    {
     "data": {
      "image/png": "[encoded data removed]",
      "text/plain": [
       "<Figure size 432x432 with 1 Axes>"
      ]
     },
     "metadata": {
      "needs_background": "light"
     },
     "output_type": "display_data"
    }
   ],
   "source": [
    "rcParams['figure.figsize'] = 6, 6\n",
    "\n",
    "ax = sns.boxplot(x = \" OIL\", y = 'CUR.VECT1.Y.TOLUENE.dat', data = df)\n",
    "plt.xticks(rotation='vertical')"
   ]
  },
  {
   "cell_type": "code",
   "execution_count": 21,
   "id": "b5398d2b",
   "metadata": {
    "execution": {
     "iopub.execute_input": "2021-11-10T22:29:07.192933Z",
     "iopub.status.busy": "2021-11-10T22:29:07.191930Z",
     "iopub.status.idle": "2021-11-10T22:29:07.403248Z",
     "shell.execute_reply": "2021-11-10T22:29:07.403687Z",
     "shell.execute_reply.started": "2021-10-08T01:21:58.795151Z"
    },
    "papermill": {
     "duration": 0.269184,
     "end_time": "2021-11-10T22:29:07.403864",
     "exception": false,
     "start_time": "2021-11-10T22:29:07.134680",
     "status": "completed"
    },
    "tags": []
   },
   "outputs": [
    {
     "data": {
      "text/plain": [
       "(array([0, 1, 2, 3, 4]),\n",
       " [Text(0, 0, ' heptane-brine'),\n",
       "  Text(1, 0, ' heptol-brine'),\n",
       "  Text(2, 0, ' light-brine'),\n",
       "  Text(3, 0, ' medium-brine'),\n",
       "  Text(4, 0, ' toluene-brine')])"
      ]
     },
     "execution_count": 21,
     "metadata": {},
     "output_type": "execute_result"
    },
    {
     "data": {
      "image/png": "[encoded data removed]",
      "text/plain": [
       "<Figure size 432x432 with 1 Axes>"
      ]
     },
     "metadata": {
      "needs_background": "light"
     },
     "output_type": "display_data"
    }
   ],
   "source": [
    "rcParams['figure.figsize'] = 6, 6\n",
    "ax = sns.boxplot(x = \" OIL\", y = 'ENT.VECT2.Z.TOLUENE.DAT', data = df)\n",
    "plt.xticks(rotation='vertical')"
   ]
  },
  {
   "cell_type": "markdown",
   "id": "efed5c3a",
   "metadata": {
    "papermill": {
     "duration": 0.053376,
     "end_time": "2021-11-10T22:29:07.511121",
     "exception": false,
     "start_time": "2021-11-10T22:29:07.457745",
     "status": "completed"
    },
    "tags": []
   },
   "source": [
    "# XGBoost with cross validation"
   ]
  },
  {
   "cell_type": "code",
   "execution_count": 22,
   "id": "63addad3",
   "metadata": {
    "execution": {
     "iopub.execute_input": "2021-11-10T22:29:07.624275Z",
     "iopub.status.busy": "2021-11-10T22:29:07.623652Z",
     "iopub.status.idle": "2021-11-10T22:29:07.626286Z",
     "shell.execute_reply": "2021-11-10T22:29:07.626793Z",
     "shell.execute_reply.started": "2021-10-08T01:21:59.039849Z"
    },
    "papermill": {
     "duration": 0.061886,
     "end_time": "2021-11-10T22:29:07.626987",
     "exception": false,
     "start_time": "2021-11-10T22:29:07.565101",
     "status": "completed"
    },
    "tags": []
   },
   "outputs": [],
   "source": [
    "from sklearn.model_selection import KFold"
   ]
  },
  {
   "cell_type": "code",
   "execution_count": 23,
   "id": "dd0c93db",
   "metadata": {
    "execution": {
     "iopub.execute_input": "2021-11-10T22:29:07.738123Z",
     "iopub.status.busy": "2021-11-10T22:29:07.737479Z",
     "iopub.status.idle": "2021-11-10T22:29:07.743319Z",
     "shell.execute_reply": "2021-11-10T22:29:07.743827Z",
     "shell.execute_reply.started": "2021-10-08T01:21:59.044493Z"
    },
    "papermill": {
     "duration": 0.062798,
     "end_time": "2021-11-10T22:29:07.744003",
     "exception": false,
     "start_time": "2021-11-10T22:29:07.681205",
     "status": "completed"
    },
    "tags": []
   },
   "outputs": [],
   "source": [
    "X = df.drop([' OIL','IFT'], axis=1).values\n",
    "y = pd.DataFrame(df['IFT']).values"
   ]
  },
  {
   "cell_type": "code",
   "execution_count": 24,
   "id": "60098482",
   "metadata": {
    "execution": {
     "iopub.execute_input": "2021-11-10T22:29:07.856869Z",
     "iopub.status.busy": "2021-11-10T22:29:07.856160Z",
     "iopub.status.idle": "2021-11-10T22:29:07.867020Z",
     "shell.execute_reply": "2021-11-10T22:29:07.866397Z",
     "shell.execute_reply.started": "2021-10-08T01:21:59.060877Z"
    },
    "papermill": {
     "duration": 0.068856,
     "end_time": "2021-11-10T22:29:07.867192",
     "exception": false,
     "start_time": "2021-11-10T22:29:07.798336",
     "status": "completed"
    },
    "tags": []
   },
   "outputs": [],
   "source": [
    "def train_model(params):\n",
    "    \n",
    "    n_estimators = params[0]    \n",
    "    learning_rate = params[1]\n",
    "    max_depth = params[2]\n",
    "    \n",
    "    print(params, '\\n')\n",
    "    \n",
    "    model = XGBRegressor(n_estimators = n_estimators,\n",
    "                             learning_rate = learning_rate,\n",
    "                             max_depth = max_depth,\n",
    "                             random_state=0)\n",
    "   \n",
    "    mae_t = []\n",
    "    r2_t = []\n",
    "    kf = KFold(5, shuffle=True, random_state=0)\n",
    "\n",
    "    for lines_train_kf, lines_test_kf in kf.split(X):\n",
    "       \n",
    "        x_train_kf, x_test_kf = X[lines_train_kf], X[lines_test_kf]\n",
    "        y_train_kf, y_test_kf = y[lines_train_kf], y[lines_test_kf]\n",
    "\n",
    "        scaler_x_train_kf = ss_x\n",
    "       \n",
    "        x_train_kf = scaler_x_train_kf.fit_transform(x_train_kf)\n",
    "        x_test_kf = scaler_x_train_kf.transform(x_test_kf)\n",
    "\n",
    "        scaler_y_train_kf = ss_y\n",
    "        y_train_kf = scaler_y_train_kf.fit_transform(y_train_kf.reshape(-1, 1)).reshape(-1,)\n",
    "\n",
    "###############################################################################\n",
    "   \n",
    "        model.fit(x_train_kf, y_train_kf)\n",
    "       \n",
    "        predictions = model.predict(x_test_kf).reshape(-1,)\n",
    "\n",
    "        y_train_kf = scaler_y_train_kf.inverse_transform(y_train_kf.reshape(-1, 1)).reshape(-1,)\n",
    "       \n",
    "        predictions = scaler_y_train_kf.inverse_transform(predictions.reshape(-1, 1)).reshape(-1,)\n",
    "       \n",
    "        mae = mean_absolute_error(y_test_kf, predictions)\n",
    "        mae_t.append(mae)\n",
    "\n",
    "        r2 = sklearn.metrics.r2_score(y_test_kf, predictions)\n",
    "        r2_t.append(r2)\n",
    "       \n",
    "    return np.mean(mae_t,axis=0)\n",
    "    #return -r2_score(y_train_test, predictions)\n",
    "\n",
    "\n",
    "space = [(100, 1000), # n_estimators\n",
    "         (0.0001, 0.5, 'log-uniform'),  # learning_rate\n",
    "         (2, 7, 'log-uniform')]  # max_depth\n",
    "\n",
    "#from skopt import dummy_minimize\n",
    "#resultado = dummy_minimize(train_model, space, random_state=1, verbose=1, n_calls=200)\n",
    "\n",
    "from skopt import gp_minimize\n",
    "#resultados_gp = gp_minimize(train_model, space, random_state=1, verbose=1, n_calls=50, n_random_starts=25)"
   ]
  },
  {
   "cell_type": "code",
   "execution_count": 25,
   "id": "e3d62c0c",
   "metadata": {
    "execution": {
     "iopub.execute_input": "2021-11-10T22:29:07.982889Z",
     "iopub.status.busy": "2021-11-10T22:29:07.982206Z",
     "iopub.status.idle": "2021-11-10T22:29:09.629757Z",
     "shell.execute_reply": "2021-11-10T22:29:09.629171Z",
     "shell.execute_reply.started": "2021-10-08T01:21:59.07543Z"
    },
    "papermill": {
     "duration": 1.708734,
     "end_time": "2021-11-10T22:29:09.629910",
     "exception": false,
     "start_time": "2021-11-10T22:29:07.921176",
     "status": "completed"
    },
    "tags": []
   },
   "outputs": [
    {
     "data": {
      "text/plain": [
       "XGBRegressor(base_score=0.5, booster='gbtree', colsample_bylevel=1,\n",
       "             colsample_bynode=1, colsample_bytree=1, gamma=0, gpu_id=-1,\n",
       "             importance_type='gain', interaction_constraints='',\n",
       "             learning_rate=0.061511475574722765, max_delta_step=0, max_depth=2,\n",
       "             min_child_weight=1, missing=nan, monotone_constraints='()',\n",
       "             n_estimators=1000, n_jobs=4, num_parallel_tree=1, random_state=0,\n",
       "             reg_alpha=0, reg_lambda=1, scale_pos_weight=1, subsample=1,\n",
       "             tree_method='exact', validate_parameters=1, verbosity=None)"
      ]
     },
     "execution_count": 25,
     "metadata": {},
     "output_type": "execute_result"
    }
   ],
   "source": [
    "#[1000, 0.061511475574722765, 2] \n",
    "\n",
    "model = XGBRegressor(n_estimators = 1000,\n",
    "                             learning_rate = 0.061511475574722765,\n",
    "                             max_depth = 2,\n",
    "                             random_state=0)\n",
    "\n",
    "model.fit(X_train_scaled, y_train_scaled)"
   ]
  },
  {
   "cell_type": "code",
   "execution_count": 26,
   "id": "f9fc4fe5",
   "metadata": {
    "execution": {
     "iopub.execute_input": "2021-11-10T22:29:09.745142Z",
     "iopub.status.busy": "2021-11-10T22:29:09.744357Z",
     "iopub.status.idle": "2021-11-10T22:29:09.753044Z",
     "shell.execute_reply": "2021-11-10T22:29:09.753641Z",
     "shell.execute_reply.started": "2021-10-08T01:22:00.742947Z"
    },
    "papermill": {
     "duration": 0.069767,
     "end_time": "2021-11-10T22:29:09.753831",
     "exception": false,
     "start_time": "2021-11-10T22:29:09.684064",
     "status": "completed"
    },
    "tags": []
   },
   "outputs": [
    {
     "name": "stdout",
     "output_type": "stream",
     "text": [
      "0.43004017006835965\n"
     ]
    }
   ],
   "source": [
    "# make predictions for test data\n",
    "predicted_scaled = model.predict(X_test_scaled)\n",
    "\n",
    "y_test = ss_y.inverse_transform(y_test_scaled.reshape(-1, 1)).reshape(-1,)\n",
    "predicted = ss_y.inverse_transform(predicted_scaled.reshape(-1, 1)).reshape(-1,)\n",
    "\n",
    "# calculate errors\n",
    "errors = mean_absolute_error(y_test, predicted)\n",
    "# report error\n",
    "print(errors)"
   ]
  },
  {
   "cell_type": "code",
   "execution_count": 27,
   "id": "f3b40a52",
   "metadata": {
    "execution": {
     "iopub.execute_input": "2021-11-10T22:29:09.867296Z",
     "iopub.status.busy": "2021-11-10T22:29:09.866684Z",
     "iopub.status.idle": "2021-11-10T22:29:09.872024Z",
     "shell.execute_reply": "2021-11-10T22:29:09.872897Z",
     "shell.execute_reply.started": "2021-10-08T01:22:00.761568Z"
    },
    "papermill": {
     "duration": 0.064851,
     "end_time": "2021-11-10T22:29:09.873122",
     "exception": false,
     "start_time": "2021-11-10T22:29:09.808271",
     "status": "completed"
    },
    "tags": []
   },
   "outputs": [
    {
     "name": "stdout",
     "output_type": "stream",
     "text": [
      "r2 score for perfect model is 0.9782646204724694\n"
     ]
    }
   ],
   "source": [
    "r2 = sklearn.metrics.r2_score(y_test, predicted)\n",
    "print('r2 score for perfect model is', r2)"
   ]
  },
  {
   "cell_type": "markdown",
   "id": "c4b74082",
   "metadata": {
    "papermill": {
     "duration": 0.058356,
     "end_time": "2021-11-10T22:29:09.987715",
     "exception": false,
     "start_time": "2021-11-10T22:29:09.929359",
     "status": "completed"
    },
    "tags": []
   },
   "source": [
    "# Regressão de Multiplas Variáveis"
   ]
  },
  {
   "cell_type": "markdown",
   "id": "5e329979",
   "metadata": {
    "papermill": {
     "duration": 0.055601,
     "end_time": "2021-11-10T22:29:10.101308",
     "exception": false,
     "start_time": "2021-11-10T22:29:10.045707",
     "status": "completed"
    },
    "tags": []
   },
   "source": [
    "https://www.analyticsvidhya.com/blog/2021/05/multiple-linear-regression-using-python-and-scikit-learn/"
   ]
  },
  {
   "cell_type": "code",
   "execution_count": 28,
   "id": "68f5d438",
   "metadata": {
    "execution": {
     "iopub.execute_input": "2021-11-10T22:29:10.215503Z",
     "iopub.status.busy": "2021-11-10T22:29:10.214609Z",
     "iopub.status.idle": "2021-11-10T22:29:10.220763Z",
     "shell.execute_reply": "2021-11-10T22:29:10.221303Z",
     "shell.execute_reply.started": "2021-10-08T01:22:00.770968Z"
    },
    "papermill": {
     "duration": 0.064702,
     "end_time": "2021-11-10T22:29:10.221479",
     "exception": false,
     "start_time": "2021-11-10T22:29:10.156777",
     "status": "completed"
    },
    "tags": []
   },
   "outputs": [
    {
     "data": {
      "text/plain": [
       "['DENS.10.dat',\n",
       " 'DENS.37.dat',\n",
       " 'ENT.VECT2.Z.TOLUENE.DAT',\n",
       " 'DENS.11.dat',\n",
       " 'SIGMA.DAT',\n",
       " 'TDENS.PARAFFINIC.dat',\n",
       " 'ENT.VECT1.Z.TOLUENE.DAT',\n",
       " 'CUR.VECT1.Y.TOLUENE.dat',\n",
       " 'ARO.CUR.VECT2.X.dat',\n",
       " 'WHB.DAT',\n",
       " 'DENS.7.dat']"
      ]
     },
     "execution_count": 28,
     "metadata": {},
     "output_type": "execute_result"
    }
   ],
   "source": [
    "importances[\"Attribute\"].to_list()"
   ]
  },
  {
   "cell_type": "code",
   "execution_count": 29,
   "id": "97ead108",
   "metadata": {
    "execution": {
     "iopub.execute_input": "2021-11-10T22:29:10.338441Z",
     "iopub.status.busy": "2021-11-10T22:29:10.337858Z",
     "iopub.status.idle": "2021-11-10T22:29:10.341268Z",
     "shell.execute_reply": "2021-11-10T22:29:10.340701Z",
     "shell.execute_reply.started": "2021-10-08T01:22:00.782813Z"
    },
    "papermill": {
     "duration": 0.064631,
     "end_time": "2021-11-10T22:29:10.341399",
     "exception": false,
     "start_time": "2021-11-10T22:29:10.276768",
     "status": "completed"
    },
    "tags": []
   },
   "outputs": [
    {
     "data": {
      "text/plain": [
       "255                DENS.10.dat\n",
       "268                DENS.37.dat\n",
       "438    ENT.VECT2.Z.TOLUENE.DAT\n",
       "256                DENS.11.dat\n",
       "799                  SIGMA.DAT\n",
       "802       TDENS.PARAFFINIC.dat\n",
       "384    ENT.VECT1.Z.TOLUENE.DAT\n",
       "118    CUR.VECT1.Y.TOLUENE.dat\n",
       "17         ARO.CUR.VECT2.X.dat\n",
       "Name: Attribute, dtype: object"
      ]
     },
     "execution_count": 29,
     "metadata": {},
     "output_type": "execute_result"
    }
   ],
   "source": [
    "importances['Attribute'].iloc[:9]"
   ]
  },
  {
   "cell_type": "code",
   "execution_count": 30,
   "id": "2c0b6843",
   "metadata": {
    "execution": {
     "iopub.execute_input": "2021-11-10T22:29:10.462336Z",
     "iopub.status.busy": "2021-11-10T22:29:10.461279Z",
     "iopub.status.idle": "2021-11-10T22:29:10.475625Z",
     "shell.execute_reply": "2021-11-10T22:29:10.476115Z",
     "shell.execute_reply.started": "2021-10-08T01:22:00.797948Z"
    },
    "papermill": {
     "duration": 0.078931,
     "end_time": "2021-11-10T22:29:10.476304",
     "exception": false,
     "start_time": "2021-11-10T22:29:10.397373",
     "status": "completed"
    },
    "tags": []
   },
   "outputs": [],
   "source": [
    "X = df[importances[\"Attribute\"].iloc[:9].to_list()]\n",
    "y = pd.DataFrame(df['IFT'])\n",
    "\n",
    "X_train, X_test, y_train, y_test = train_test_split(X, y, test_size=0.2, random_state=0)\n",
    "\n",
    "ss_x = StandardScaler()\n",
    "ss_y = StandardScaler()\n",
    "\n",
    "X_train_scaled = ss_x.fit_transform(X_train)\n",
    "X_test_scaled = ss_x.transform(X_test)\n",
    "y_train_scaled = ss_y.fit_transform(y_train)\n",
    "y_test_scaled = ss_y.transform(y_test)"
   ]
  },
  {
   "cell_type": "code",
   "execution_count": 31,
   "id": "9e8de515",
   "metadata": {
    "execution": {
     "iopub.execute_input": "2021-11-10T22:29:10.601464Z",
     "iopub.status.busy": "2021-11-10T22:29:10.590170Z",
     "iopub.status.idle": "2021-11-10T22:29:10.627130Z",
     "shell.execute_reply": "2021-11-10T22:29:10.627753Z",
     "shell.execute_reply.started": "2021-10-08T01:22:00.824063Z"
    },
    "papermill": {
     "duration": 0.096446,
     "end_time": "2021-11-10T22:29:10.627944",
     "exception": false,
     "start_time": "2021-11-10T22:29:10.531498",
     "status": "completed"
    },
    "tags": []
   },
   "outputs": [
    {
     "data": {
      "text/html": [
       "<div>\n",
       "<style scoped>\n",
       "    .dataframe tbody tr th:only-of-type {\n",
       "        vertical-align: middle;\n",
       "    }\n",
       "\n",
       "    .dataframe tbody tr th {\n",
       "        vertical-align: top;\n",
       "    }\n",
       "\n",
       "    .dataframe thead th {\n",
       "        text-align: right;\n",
       "    }\n",
       "</style>\n",
       "<table border=\"1\" class=\"dataframe\">\n",
       "  <thead>\n",
       "    <tr style=\"text-align: right;\">\n",
       "      <th></th>\n",
       "      <th>DENS.10.dat</th>\n",
       "      <th>DENS.37.dat</th>\n",
       "      <th>ENT.VECT2.Z.TOLUENE.DAT</th>\n",
       "      <th>DENS.11.dat</th>\n",
       "      <th>SIGMA.DAT</th>\n",
       "      <th>TDENS.PARAFFINIC.dat</th>\n",
       "      <th>ENT.VECT1.Z.TOLUENE.DAT</th>\n",
       "      <th>CUR.VECT1.Y.TOLUENE.dat</th>\n",
       "      <th>ARO.CUR.VECT2.X.dat</th>\n",
       "    </tr>\n",
       "  </thead>\n",
       "  <tbody>\n",
       "    <tr>\n",
       "      <th>count</th>\n",
       "      <td>130.000000</td>\n",
       "      <td>130.000000</td>\n",
       "      <td>130.000000</td>\n",
       "      <td>130.000000</td>\n",
       "      <td>130.000000</td>\n",
       "      <td>130.000000</td>\n",
       "      <td>130.000000</td>\n",
       "      <td>130.000000</td>\n",
       "      <td>130.000000</td>\n",
       "    </tr>\n",
       "    <tr>\n",
       "      <th>mean</th>\n",
       "      <td>0.003085</td>\n",
       "      <td>0.000986</td>\n",
       "      <td>2.919143</td>\n",
       "      <td>0.006883</td>\n",
       "      <td>2.113804</td>\n",
       "      <td>0.107521</td>\n",
       "      <td>2.858964</td>\n",
       "      <td>1.660617</td>\n",
       "      <td>1.692923</td>\n",
       "    </tr>\n",
       "    <tr>\n",
       "      <th>std</th>\n",
       "      <td>0.002268</td>\n",
       "      <td>0.000895</td>\n",
       "      <td>1.526541</td>\n",
       "      <td>0.005003</td>\n",
       "      <td>0.124414</td>\n",
       "      <td>0.080442</td>\n",
       "      <td>1.491001</td>\n",
       "      <td>0.875820</td>\n",
       "      <td>0.874359</td>\n",
       "    </tr>\n",
       "    <tr>\n",
       "      <th>min</th>\n",
       "      <td>0.000000</td>\n",
       "      <td>0.000000</td>\n",
       "      <td>0.000000</td>\n",
       "      <td>0.000000</td>\n",
       "      <td>1.920810</td>\n",
       "      <td>0.000000</td>\n",
       "      <td>0.000000</td>\n",
       "      <td>0.000000</td>\n",
       "      <td>0.000000</td>\n",
       "    </tr>\n",
       "    <tr>\n",
       "      <th>25%</th>\n",
       "      <td>0.001600</td>\n",
       "      <td>0.000334</td>\n",
       "      <td>3.026598</td>\n",
       "      <td>0.003612</td>\n",
       "      <td>2.009062</td>\n",
       "      <td>0.059529</td>\n",
       "      <td>3.007850</td>\n",
       "      <td>1.890838</td>\n",
       "      <td>1.969007</td>\n",
       "    </tr>\n",
       "    <tr>\n",
       "      <th>50%</th>\n",
       "      <td>0.003263</td>\n",
       "      <td>0.000540</td>\n",
       "      <td>3.809179</td>\n",
       "      <td>0.007287</td>\n",
       "      <td>2.080090</td>\n",
       "      <td>0.113599</td>\n",
       "      <td>3.706128</td>\n",
       "      <td>2.071318</td>\n",
       "      <td>2.104576</td>\n",
       "    </tr>\n",
       "    <tr>\n",
       "      <th>75%</th>\n",
       "      <td>0.004028</td>\n",
       "      <td>0.001762</td>\n",
       "      <td>3.879445</td>\n",
       "      <td>0.009225</td>\n",
       "      <td>2.198875</td>\n",
       "      <td>0.126140</td>\n",
       "      <td>3.784943</td>\n",
       "      <td>2.125006</td>\n",
       "      <td>2.177802</td>\n",
       "    </tr>\n",
       "    <tr>\n",
       "      <th>max</th>\n",
       "      <td>0.006888</td>\n",
       "      <td>0.002477</td>\n",
       "      <td>3.913038</td>\n",
       "      <td>0.015022</td>\n",
       "      <td>2.403870</td>\n",
       "      <td>0.246957</td>\n",
       "      <td>3.846455</td>\n",
       "      <td>3.144975</td>\n",
       "      <td>2.434247</td>\n",
       "    </tr>\n",
       "  </tbody>\n",
       "</table>\n",
       "</div>"
      ],
      "text/plain": [
       "       DENS.10.dat  DENS.37.dat  ENT.VECT2.Z.TOLUENE.DAT  DENS.11.dat  \\\n",
       "count   130.000000   130.000000               130.000000   130.000000   \n",
       "mean      0.003085     0.000986                 2.919143     0.006883   \n",
       "std       0.002268     0.000895                 1.526541     0.005003   \n",
       "min       0.000000     0.000000                 0.000000     0.000000   \n",
       "25%       0.001600     0.000334                 3.026598     0.003612   \n",
       "50%       0.003263     0.000540                 3.809179     0.007287   \n",
       "75%       0.004028     0.001762                 3.879445     0.009225   \n",
       "max       0.006888     0.002477                 3.913038     0.015022   \n",
       "\n",
       "        SIGMA.DAT  TDENS.PARAFFINIC.dat  ENT.VECT1.Z.TOLUENE.DAT  \\\n",
       "count  130.000000            130.000000               130.000000   \n",
       "mean     2.113804              0.107521                 2.858964   \n",
       "std      0.124414              0.080442                 1.491001   \n",
       "min      1.920810              0.000000                 0.000000   \n",
       "25%      2.009062              0.059529                 3.007850   \n",
       "50%      2.080090              0.113599                 3.706128   \n",
       "75%      2.198875              0.126140                 3.784943   \n",
       "max      2.403870              0.246957                 3.846455   \n",
       "\n",
       "       CUR.VECT1.Y.TOLUENE.dat  ARO.CUR.VECT2.X.dat  \n",
       "count               130.000000           130.000000  \n",
       "mean                  1.660617             1.692923  \n",
       "std                   0.875820             0.874359  \n",
       "min                   0.000000             0.000000  \n",
       "25%                   1.890838             1.969007  \n",
       "50%                   2.071318             2.104576  \n",
       "75%                   2.125006             2.177802  \n",
       "max                   3.144975             2.434247  "
      ]
     },
     "execution_count": 31,
     "metadata": {},
     "output_type": "execute_result"
    }
   ],
   "source": [
    "X.describe()"
   ]
  },
  {
   "cell_type": "code",
   "execution_count": 32,
   "id": "17d10e33",
   "metadata": {
    "execution": {
     "iopub.execute_input": "2021-11-10T22:29:10.742816Z",
     "iopub.status.busy": "2021-11-10T22:29:10.742224Z",
     "iopub.status.idle": "2021-11-10T22:29:10.785679Z",
     "shell.execute_reply": "2021-11-10T22:29:10.786180Z",
     "shell.execute_reply.started": "2021-10-08T01:22:00.868779Z"
    },
    "papermill": {
     "duration": 0.102505,
     "end_time": "2021-11-10T22:29:10.786361",
     "exception": false,
     "start_time": "2021-11-10T22:29:10.683856",
     "status": "completed"
    },
    "tags": []
   },
   "outputs": [
    {
     "data": {
      "text/plain": [
       "LinearRegression()"
      ]
     },
     "execution_count": 32,
     "metadata": {},
     "output_type": "execute_result"
    }
   ],
   "source": [
    "# importing module\n",
    "from sklearn.linear_model import LinearRegression\n",
    "# creating an object of LinearRegression class\n",
    "LR = LinearRegression()\n",
    "# fitting the training data\n",
    "LR.fit(X_train_scaled, y_train_scaled)"
   ]
  },
  {
   "cell_type": "code",
   "execution_count": 33,
   "id": "0e7a158b",
   "metadata": {
    "execution": {
     "iopub.execute_input": "2021-11-10T22:29:10.902804Z",
     "iopub.status.busy": "2021-11-10T22:29:10.902145Z",
     "iopub.status.idle": "2021-11-10T22:29:10.908737Z",
     "shell.execute_reply": "2021-11-10T22:29:10.909240Z",
     "shell.execute_reply.started": "2021-10-08T01:22:00.92253Z"
    },
    "papermill": {
     "duration": 0.066217,
     "end_time": "2021-11-10T22:29:10.909406",
     "exception": false,
     "start_time": "2021-11-10T22:29:10.843189",
     "status": "completed"
    },
    "tags": []
   },
   "outputs": [
    {
     "name": "stdout",
     "output_type": "stream",
     "text": [
      "0.5960034303166167\n"
     ]
    }
   ],
   "source": [
    "# make predictions for test data\n",
    "predicted_scaled = LR.predict(X_test_scaled)\n",
    "\n",
    "y_test = ss_y.inverse_transform(y_test_scaled.reshape(-1, 1)).reshape(-1,)\n",
    "predicted = ss_y.inverse_transform(predicted_scaled.reshape(-1, 1)).reshape(-1,)\n",
    "\n",
    "# calculate errors\n",
    "errors = mean_absolute_error(y_test, predicted)\n",
    "# report error\n",
    "print(errors)"
   ]
  },
  {
   "cell_type": "code",
   "execution_count": 34,
   "id": "8d11ea8d",
   "metadata": {
    "execution": {
     "iopub.execute_input": "2021-11-10T22:29:11.025117Z",
     "iopub.status.busy": "2021-11-10T22:29:11.024194Z",
     "iopub.status.idle": "2021-11-10T22:29:11.032751Z",
     "shell.execute_reply": "2021-11-10T22:29:11.033216Z",
     "shell.execute_reply.started": "2021-10-08T01:22:00.937821Z"
    },
    "papermill": {
     "duration": 0.067897,
     "end_time": "2021-11-10T22:29:11.033384",
     "exception": false,
     "start_time": "2021-11-10T22:29:10.965487",
     "status": "completed"
    },
    "tags": []
   },
   "outputs": [
    {
     "name": "stdout",
     "output_type": "stream",
     "text": [
      "r2 socre is  0.955927367995904\n",
      "mean_sqrd_error is  0.565939424702221\n",
      "root_mean_squared error of is  0.7522894553974694\n"
     ]
    }
   ],
   "source": [
    "# importing r2_score module\n",
    "from sklearn.metrics import r2_score\n",
    "from sklearn.metrics import mean_squared_error\n",
    "\n",
    "# predicting the accuracy score\n",
    "score=r2_score(y_test, predicted)\n",
    "print('r2 socre is ', score)\n",
    "print('mean_sqrd_error is ' ,mean_squared_error(y_test, predicted))\n",
    "print('root_mean_squared error of is ',np.sqrt(mean_squared_error(y_test, predicted)))"
   ]
  },
  {
   "cell_type": "code",
   "execution_count": 35,
   "id": "346570a6",
   "metadata": {
    "execution": {
     "iopub.execute_input": "2021-11-10T22:29:11.150984Z",
     "iopub.status.busy": "2021-11-10T22:29:11.150028Z",
     "iopub.status.idle": "2021-11-10T22:29:11.156929Z",
     "shell.execute_reply": "2021-11-10T22:29:11.157369Z",
     "shell.execute_reply.started": "2021-10-08T01:22:00.952628Z"
    },
    "papermill": {
     "duration": 0.067328,
     "end_time": "2021-11-10T22:29:11.157532",
     "exception": false,
     "start_time": "2021-11-10T22:29:11.090204",
     "status": "completed"
    },
    "tags": []
   },
   "outputs": [
    {
     "data": {
      "text/plain": [
       "Index(['DENS.10.dat', 'DENS.37.dat', 'ENT.VECT2.Z.TOLUENE.DAT', 'DENS.11.dat',\n",
       "       'SIGMA.DAT', 'TDENS.PARAFFINIC.dat', 'ENT.VECT1.Z.TOLUENE.DAT',\n",
       "       'CUR.VECT1.Y.TOLUENE.dat', 'ARO.CUR.VECT2.X.dat'],\n",
       "      dtype='object')"
      ]
     },
     "execution_count": 35,
     "metadata": {},
     "output_type": "execute_result"
    }
   ],
   "source": [
    "X.columns"
   ]
  },
  {
   "cell_type": "code",
   "execution_count": 36,
   "id": "22ff9884",
   "metadata": {
    "execution": {
     "iopub.execute_input": "2021-11-10T22:29:11.279304Z",
     "iopub.status.busy": "2021-11-10T22:29:11.278331Z",
     "iopub.status.idle": "2021-11-10T22:29:11.283756Z",
     "shell.execute_reply": "2021-11-10T22:29:11.284199Z",
     "shell.execute_reply.started": "2021-10-08T01:22:00.967926Z"
    },
    "papermill": {
     "duration": 0.06994,
     "end_time": "2021-11-10T22:29:11.284368",
     "exception": false,
     "start_time": "2021-11-10T22:29:11.214428",
     "status": "completed"
    },
    "tags": []
   },
   "outputs": [
    {
     "data": {
      "text/plain": [
       "array([[ 0.62635694, -0.52698468,  0.71778813, -0.19813188, -0.28668924,\n",
       "        -0.13309696, -0.41465289, -0.02497427, -0.14790518]])"
      ]
     },
     "execution_count": 36,
     "metadata": {},
     "output_type": "execute_result"
    }
   ],
   "source": [
    "LR.coef_"
   ]
  },
  {
   "cell_type": "code",
   "execution_count": 37,
   "id": "79e7a38b",
   "metadata": {
    "execution": {
     "iopub.execute_input": "2021-11-10T22:29:11.406638Z",
     "iopub.status.busy": "2021-11-10T22:29:11.405744Z",
     "iopub.status.idle": "2021-11-10T22:29:11.410316Z",
     "shell.execute_reply": "2021-11-10T22:29:11.409730Z",
     "shell.execute_reply.started": "2021-10-08T01:22:00.977794Z"
    },
    "papermill": {
     "duration": 0.067243,
     "end_time": "2021-11-10T22:29:11.410456",
     "exception": false,
     "start_time": "2021-11-10T22:29:11.343213",
     "status": "completed"
    },
    "tags": []
   },
   "outputs": [
    {
     "data": {
      "text/plain": [
       "array([3.29859097e-17])"
      ]
     },
     "execution_count": 37,
     "metadata": {},
     "output_type": "execute_result"
    }
   ],
   "source": [
    "LR.intercept_"
   ]
  },
  {
   "cell_type": "markdown",
   "id": "12476b84",
   "metadata": {
    "papermill": {
     "duration": 0.057975,
     "end_time": "2021-11-10T22:29:11.527365",
     "exception": false,
     "start_time": "2021-11-10T22:29:11.469390",
     "status": "completed"
    },
    "tags": []
   },
   "source": [
    "# A eq. linear para previsão da tensão interfacial é \n",
    "\n",
    "**IFT** = 8.5e-17 + **0.37**[DENS.10.dat] - **0.53**[DENS.37.dat] + **0.86**[ENT.VECT2.Z.TOLUENE.DAT] - **0.32**[DENS.11.dat] - **0.28**[SIGMA.DAT] + **0.67**[TDENS.PARAFFINIC.dat] - **0.53**[ENT.VECT1.Z.TOLUENE.DAT] - **0.02**[CUR.VECT1.Y.TOLUENE.dat] - **0.17**[ARO.CUR.VECT2.X.dat] - **0.008**[WHB.DAT] - **0.42**[DENS.7.dat]"
   ]
  },
  {
   "cell_type": "code",
   "execution_count": 38,
   "id": "fda90eb5",
   "metadata": {
    "execution": {
     "iopub.execute_input": "2021-11-10T22:29:11.647827Z",
     "iopub.status.busy": "2021-11-10T22:29:11.647115Z",
     "iopub.status.idle": "2021-11-10T22:29:11.817493Z",
     "shell.execute_reply": "2021-11-10T22:29:11.818041Z",
     "shell.execute_reply.started": "2021-10-08T01:22:00.991357Z"
    },
    "papermill": {
     "duration": 0.232188,
     "end_time": "2021-11-10T22:29:11.818214",
     "exception": false,
     "start_time": "2021-11-10T22:29:11.586026",
     "status": "completed"
    },
    "tags": []
   },
   "outputs": [
    {
     "data": {
      "image/png": "[encoded data removed]",
      "text/plain": [
       "<Figure size 360x360 with 1 Axes>"
      ]
     },
     "metadata": {
      "needs_background": "light"
     },
     "output_type": "display_data"
    }
   ],
   "source": [
    "rcParams['figure.figsize'] = 5, 5\n",
    "\n",
    "\n",
    "fig, ax = plt.subplots()\n",
    "x = range(40,55)\n",
    "y=x\n",
    "\n",
    "ax.plot(x,y,\"r--\")\n",
    "ax.scatter(y_test, predicted)\n",
    "\n",
    "ax.set(xlabel='Valor calculado', ylabel='Valor esperado',\n",
    "       title='Erro=0.64 and R2=95,4%')\n",
    "\n",
    "plt.suptitle(\"Regressão de múltiplas variáveis\", y=1, fontsize=14)\n",
    "\n",
    "ax.grid()\n",
    "plt.legend()\n",
    "plt.show()"
   ]
  },
  {
   "cell_type": "markdown",
   "id": "590440db",
   "metadata": {
    "papermill": {
     "duration": 0.057852,
     "end_time": "2021-11-10T22:29:11.935390",
     "exception": false,
     "start_time": "2021-11-10T22:29:11.877538",
     "status": "completed"
    },
    "tags": []
   },
   "source": [
    "# Gráficos"
   ]
  },
  {
   "cell_type": "code",
   "execution_count": 39,
   "id": "d1db9325",
   "metadata": {
    "execution": {
     "iopub.execute_input": "2021-11-10T22:29:12.057854Z",
     "iopub.status.busy": "2021-11-10T22:29:12.057246Z",
     "iopub.status.idle": "2021-11-10T22:29:12.260077Z",
     "shell.execute_reply": "2021-11-10T22:29:12.259523Z",
     "shell.execute_reply.started": "2021-10-08T01:22:01.1906Z"
    },
    "papermill": {
     "duration": 0.266067,
     "end_time": "2021-11-10T22:29:12.260227",
     "exception": false,
     "start_time": "2021-11-10T22:29:11.994160",
     "status": "completed"
    },
    "tags": []
   },
   "outputs": [
    {
     "data": {
      "text/plain": [
       "(array([0, 1, 2, 3, 4]),\n",
       " [Text(0, 0, ' heptane-brine'),\n",
       "  Text(1, 0, ' heptol-brine'),\n",
       "  Text(2, 0, ' light-brine'),\n",
       "  Text(3, 0, ' medium-brine'),\n",
       "  Text(4, 0, ' toluene-brine')])"
      ]
     },
     "execution_count": 39,
     "metadata": {},
     "output_type": "execute_result"
    },
    {
     "data": {
      "image/png": "[encoded data removed]",
      "text/plain": [
       "<Figure size 432x432 with 1 Axes>"
      ]
     },
     "metadata": {
      "needs_background": "light"
     },
     "output_type": "display_data"
    }
   ],
   "source": [
    "rcParams['figure.figsize'] = 6, 6\n",
    "sns.boxplot(x=\" OIL\", y=\"SIGMA.DAT\", data=df);\n",
    "plt.xticks(rotation='vertical')"
   ]
  },
  {
   "cell_type": "code",
   "execution_count": 40,
   "id": "e046d3ac",
   "metadata": {
    "execution": {
     "iopub.execute_input": "2021-11-10T22:29:12.414759Z",
     "iopub.status.busy": "2021-11-10T22:29:12.413832Z",
     "iopub.status.idle": "2021-11-10T22:29:12.959094Z",
     "shell.execute_reply": "2021-11-10T22:29:12.959537Z",
     "shell.execute_reply.started": "2021-10-08T01:22:01.418331Z"
    },
    "papermill": {
     "duration": 0.62159,
     "end_time": "2021-11-10T22:29:12.959717",
     "exception": false,
     "start_time": "2021-11-10T22:29:12.338127",
     "status": "completed"
    },
    "tags": []
   },
   "outputs": [
    {
     "data": {
      "image/png": "[encoded data removed]",
      "text/plain": [
       "<Figure size 469.75x360 with 1 Axes>"
      ]
     },
     "metadata": {
      "needs_background": "light"
     },
     "output_type": "display_data"
    }
   ],
   "source": [
    "rcParams['figure.figsize'] = 10, 10\n",
    "ax = sns.relplot(x=\"SIGMA.DAT\", y=\"IFT\", data=df, hue=' OIL');\n",
    "sns.set_style(\"darkgrid\")\n",
    "plt.title(\"Tensão Interfacial x Largura da Interface\", size=15)\n",
    "plt.xlabel(\"Largura da Interface\",fontsize=12)\n",
    "plt.ylabel(\"Tensão Interfacial (IFT)\",fontsize=12)\n",
    "\n",
    "sns.despine(trim=True);"
   ]
  },
  {
   "cell_type": "code",
   "execution_count": 41,
   "id": "b272ea97",
   "metadata": {
    "execution": {
     "iopub.execute_input": "2021-11-10T22:29:13.097623Z",
     "iopub.status.busy": "2021-11-10T22:29:13.096848Z",
     "iopub.status.idle": "2021-11-10T22:29:13.099459Z",
     "shell.execute_reply": "2021-11-10T22:29:13.098951Z",
     "shell.execute_reply.started": "2021-10-08T01:22:02.208539Z"
    },
    "papermill": {
     "duration": 0.079505,
     "end_time": "2021-11-10T22:29:13.099621",
     "exception": false,
     "start_time": "2021-11-10T22:29:13.020116",
     "status": "completed"
    },
    "tags": []
   },
   "outputs": [],
   "source": [
    "X = df['SIGMA.DAT'].values.reshape(-1, 1)\n",
    "y = pd.DataFrame(df['IFT'])\n",
    "\n",
    "X_train, X_test, y_train, y_test = train_test_split(X, y, test_size=0.2, random_state=0)\n",
    "\n",
    "ss_x = StandardScaler()\n",
    "ss_y = StandardScaler()\n",
    "\n",
    "X_train_scaled = ss_x.fit_transform(X_train)\n",
    "X_test_scaled = ss_x.transform(X_test)\n",
    "y_train_scaled = ss_y.fit_transform(y_train)\n",
    "y_test_scaled = ss_y.transform(y_test)"
   ]
  },
  {
   "cell_type": "code",
   "execution_count": 42,
   "id": "68a4563e",
   "metadata": {
    "execution": {
     "iopub.execute_input": "2021-11-10T22:29:13.229454Z",
     "iopub.status.busy": "2021-11-10T22:29:13.228730Z",
     "iopub.status.idle": "2021-11-10T22:29:13.231433Z",
     "shell.execute_reply": "2021-11-10T22:29:13.231961Z",
     "shell.execute_reply.started": "2021-10-08T01:22:02.227648Z"
    },
    "papermill": {
     "duration": 0.0706,
     "end_time": "2021-11-10T22:29:13.232154",
     "exception": false,
     "start_time": "2021-11-10T22:29:13.161554",
     "status": "completed"
    },
    "tags": []
   },
   "outputs": [
    {
     "data": {
      "text/plain": [
       "LinearRegression()"
      ]
     },
     "execution_count": 42,
     "metadata": {},
     "output_type": "execute_result"
    }
   ],
   "source": [
    "# importing module\n",
    "from sklearn.linear_model import LinearRegression\n",
    "# creating an object of LinearRegression class\n",
    "LR = LinearRegression()\n",
    "# fitting the training data\n",
    "LR.fit(X_train_scaled, y_train_scaled)"
   ]
  },
  {
   "cell_type": "code",
   "execution_count": 43,
   "id": "c9e7687c",
   "metadata": {
    "execution": {
     "iopub.execute_input": "2021-11-10T22:29:13.357319Z",
     "iopub.status.busy": "2021-11-10T22:29:13.356689Z",
     "iopub.status.idle": "2021-11-10T22:29:13.364769Z",
     "shell.execute_reply": "2021-11-10T22:29:13.364095Z",
     "shell.execute_reply.started": "2021-10-08T01:22:02.240219Z"
    },
    "papermill": {
     "duration": 0.071949,
     "end_time": "2021-11-10T22:29:13.364923",
     "exception": false,
     "start_time": "2021-11-10T22:29:13.292974",
     "status": "completed"
    },
    "tags": []
   },
   "outputs": [
    {
     "name": "stdout",
     "output_type": "stream",
     "text": [
      "1.1040949950950651\n"
     ]
    }
   ],
   "source": [
    "# make predictions for test data\n",
    "predicted_scaled = LR.predict(X_test_scaled)\n",
    "\n",
    "y_test = ss_y.inverse_transform(y_test_scaled.reshape(-1, 1)).reshape(-1,)\n",
    "predicted = ss_y.inverse_transform(predicted_scaled.reshape(-1, 1)).reshape(-1,)\n",
    "\n",
    "# calculate errors\n",
    "errors = mean_absolute_error(y_test, predicted)\n",
    "# report error\n",
    "print(errors)"
   ]
  },
  {
   "cell_type": "code",
   "execution_count": 44,
   "id": "c849300c",
   "metadata": {
    "execution": {
     "iopub.execute_input": "2021-11-10T22:29:13.490738Z",
     "iopub.status.busy": "2021-11-10T22:29:13.490148Z",
     "iopub.status.idle": "2021-11-10T22:29:13.497839Z",
     "shell.execute_reply": "2021-11-10T22:29:13.498304Z",
     "shell.execute_reply.started": "2021-10-08T01:22:02.250374Z"
    },
    "papermill": {
     "duration": 0.071903,
     "end_time": "2021-11-10T22:29:13.498474",
     "exception": false,
     "start_time": "2021-11-10T22:29:13.426571",
     "status": "completed"
    },
    "tags": []
   },
   "outputs": [
    {
     "name": "stdout",
     "output_type": "stream",
     "text": [
      "r2 socre is  0.8622651447006372\n",
      "mean_sqrd_error is  1.7686618934471778\n",
      "root_mean_squared error of is  1.3299104832458377\n"
     ]
    }
   ],
   "source": [
    "# importing r2_score module\n",
    "from sklearn.metrics import r2_score\n",
    "from sklearn.metrics import mean_squared_error\n",
    "\n",
    "# predicting the accuracy score\n",
    "score=r2_score(y_test, predicted)\n",
    "print('r2 socre is ', score)\n",
    "print('mean_sqrd_error is ' ,mean_squared_error(y_test, predicted))\n",
    "print('root_mean_squared error of is ',np.sqrt(mean_squared_error(y_test, predicted)))"
   ]
  },
  {
   "cell_type": "code",
   "execution_count": 45,
   "id": "7e6ffc1b",
   "metadata": {
    "execution": {
     "iopub.execute_input": "2021-11-10T22:29:13.628473Z",
     "iopub.status.busy": "2021-11-10T22:29:13.627849Z",
     "iopub.status.idle": "2021-11-10T22:29:13.631010Z",
     "shell.execute_reply": "2021-11-10T22:29:13.631443Z",
     "shell.execute_reply.started": "2021-10-08T01:22:02.265229Z"
    },
    "papermill": {
     "duration": 0.071129,
     "end_time": "2021-11-10T22:29:13.631624",
     "exception": false,
     "start_time": "2021-11-10T22:29:13.560495",
     "status": "completed"
    },
    "tags": []
   },
   "outputs": [
    {
     "data": {
      "text/plain": [
       "array([[-0.94291829]])"
      ]
     },
     "execution_count": 45,
     "metadata": {},
     "output_type": "execute_result"
    }
   ],
   "source": [
    "LR.coef_"
   ]
  },
  {
   "cell_type": "code",
   "execution_count": 46,
   "id": "8caf2a26",
   "metadata": {
    "execution": {
     "iopub.execute_input": "2021-11-10T22:29:13.758800Z",
     "iopub.status.busy": "2021-11-10T22:29:13.758215Z",
     "iopub.status.idle": "2021-11-10T22:29:13.763399Z",
     "shell.execute_reply": "2021-11-10T22:29:13.763868Z",
     "shell.execute_reply.started": "2021-10-08T01:22:02.276269Z"
    },
    "papermill": {
     "duration": 0.070102,
     "end_time": "2021-11-10T22:29:13.764052",
     "exception": false,
     "start_time": "2021-11-10T22:29:13.693950",
     "status": "completed"
    },
    "tags": []
   },
   "outputs": [
    {
     "data": {
      "text/plain": [
       "array([-1.88988206e-15])"
      ]
     },
     "execution_count": 46,
     "metadata": {},
     "output_type": "execute_result"
    }
   ],
   "source": [
    "LR.intercept_"
   ]
  },
  {
   "cell_type": "code",
   "execution_count": 47,
   "id": "5d39ceae",
   "metadata": {
    "execution": {
     "iopub.execute_input": "2021-11-10T22:29:13.892377Z",
     "iopub.status.busy": "2021-11-10T22:29:13.891815Z",
     "iopub.status.idle": "2021-11-10T22:29:14.248721Z",
     "shell.execute_reply": "2021-11-10T22:29:14.249171Z",
     "shell.execute_reply.started": "2021-10-08T01:23:45.875268Z"
    },
    "papermill": {
     "duration": 0.422614,
     "end_time": "2021-11-10T22:29:14.249346",
     "exception": false,
     "start_time": "2021-11-10T22:29:13.826732",
     "status": "completed"
    },
    "tags": []
   },
   "outputs": [
    {
     "data": {
      "image/png": "[encoded data removed]",
      "text/plain": [
       "<Figure size 360x360 with 1 Axes>"
      ]
     },
     "metadata": {},
     "output_type": "display_data"
    }
   ],
   "source": [
    "rcParams['figure.figsize'] = 5, 5\n",
    "\n",
    "\n",
    "fig, ax = plt.subplots()\n",
    "x = range(40,55)\n",
    "y=x\n",
    "\n",
    "ax.plot(x,y,\"r--\")\n",
    "ax.scatter(y_test, predicted)\n",
    "\n",
    "ax.set(xlabel='Valor calculado', ylabel='Valor esperado',\n",
    "       title='Erro=1,1 and R2=86,2%')\n",
    "\n",
    "plt.suptitle(\"[Regressão Linear] IFT com largura da interface\", y=1, fontsize=14)\n",
    "\n",
    "ax.grid()\n",
    "plt.legend()\n",
    "plt.show()"
   ]
  },
  {
   "cell_type": "code",
   "execution_count": 48,
   "id": "61af6a02",
   "metadata": {
    "execution": {
     "iopub.execute_input": "2021-11-10T22:29:14.378838Z",
     "iopub.status.busy": "2021-11-10T22:29:14.378204Z",
     "iopub.status.idle": "2021-11-10T22:29:14.385955Z",
     "shell.execute_reply": "2021-11-10T22:29:14.386392Z",
     "shell.execute_reply.started": "2021-10-08T01:22:02.539273Z"
    },
    "papermill": {
     "duration": 0.074472,
     "end_time": "2021-11-10T22:29:14.386678",
     "exception": false,
     "start_time": "2021-11-10T22:29:14.312206",
     "status": "completed"
    },
    "tags": []
   },
   "outputs": [],
   "source": [
    "curt = df.loc[:,['CUR.' in i for i in df.columns]].columns.to_list()\n",
    "\n",
    "ent = df.loc[:,['ENT.' in i for i in df.columns]].columns.to_list()\n",
    "\n",
    "tort = df.loc[:,['TORT.' in i for i in df.columns]].columns.to_list()\n"
   ]
  },
  {
   "cell_type": "code",
   "execution_count": 49,
   "id": "5e7f8ee4",
   "metadata": {
    "execution": {
     "iopub.execute_input": "2021-11-10T22:29:14.514519Z",
     "iopub.status.busy": "2021-11-10T22:29:14.513911Z",
     "iopub.status.idle": "2021-11-10T22:29:14.517669Z",
     "shell.execute_reply": "2021-11-10T22:29:14.518133Z",
     "shell.execute_reply.started": "2021-10-08T01:22:02.550626Z"
    },
    "papermill": {
     "duration": 0.069221,
     "end_time": "2021-11-10T22:29:14.518298",
     "exception": false,
     "start_time": "2021-11-10T22:29:14.449077",
     "status": "completed"
    },
    "tags": []
   },
   "outputs": [],
   "source": [
    "curt.append(\" OIL\")\n",
    "curt.append(\"IFT\")"
   ]
  },
  {
   "cell_type": "code",
   "execution_count": 50,
   "id": "081cdcdc",
   "metadata": {
    "execution": {
     "iopub.execute_input": "2021-11-10T22:29:14.649676Z",
     "iopub.status.busy": "2021-11-10T22:29:14.649046Z",
     "iopub.status.idle": "2021-11-10T22:29:14.653865Z",
     "shell.execute_reply": "2021-11-10T22:29:14.653196Z",
     "shell.execute_reply.started": "2021-10-08T01:22:56.193452Z"
    },
    "papermill": {
     "duration": 0.07261,
     "end_time": "2021-11-10T22:29:14.654023",
     "exception": false,
     "start_time": "2021-11-10T22:29:14.581413",
     "status": "completed"
    },
    "tags": []
   },
   "outputs": [],
   "source": [
    "ent.append(\" OIL\")\n",
    "ent.append(\"IFT\")"
   ]
  },
  {
   "cell_type": "markdown",
   "id": "d4a82403",
   "metadata": {
    "papermill": {
     "duration": 0.06213,
     "end_time": "2021-11-10T22:29:14.779814",
     "exception": false,
     "start_time": "2021-11-10T22:29:14.717684",
     "status": "completed"
    },
    "tags": []
   },
   "source": [
    "# CURTOSE"
   ]
  },
  {
   "cell_type": "code",
   "execution_count": 51,
   "id": "f6e7c50c",
   "metadata": {
    "execution": {
     "iopub.execute_input": "2021-11-10T22:29:14.914267Z",
     "iopub.status.busy": "2021-11-10T22:29:14.913403Z",
     "iopub.status.idle": "2021-11-10T22:29:14.941754Z",
     "shell.execute_reply": "2021-11-10T22:29:14.942217Z",
     "shell.execute_reply.started": "2021-10-08T01:22:02.560786Z"
    },
    "papermill": {
     "duration": 0.100069,
     "end_time": "2021-11-10T22:29:14.942379",
     "exception": false,
     "start_time": "2021-11-10T22:29:14.842310",
     "status": "completed"
    },
    "tags": []
   },
   "outputs": [
    {
     "data": {
      "text/html": [
       "<div>\n",
       "<style scoped>\n",
       "    .dataframe tbody tr th:only-of-type {\n",
       "        vertical-align: middle;\n",
       "    }\n",
       "\n",
       "    .dataframe tbody tr th {\n",
       "        vertical-align: top;\n",
       "    }\n",
       "\n",
       "    .dataframe thead th {\n",
       "        text-align: right;\n",
       "    }\n",
       "</style>\n",
       "<table border=\"1\" class=\"dataframe\">\n",
       "  <thead>\n",
       "    <tr style=\"text-align: right;\">\n",
       "      <th></th>\n",
       "      <th>ARO.CUR.PLANE.X.dat</th>\n",
       "      <th>ARO.CUR.PLANE.Y.dat</th>\n",
       "      <th>ARO.CUR.PLANE.Z.dat</th>\n",
       "      <th>ARO.CUR.VECT1.X.dat</th>\n",
       "      <th>ARO.CUR.VECT1.Y.dat</th>\n",
       "      <th>ARO.CUR.VECT1.Z.dat</th>\n",
       "      <th>ARO.CUR.VECT2.X.dat</th>\n",
       "      <th>ARO.CUR.VECT2.Y.dat</th>\n",
       "      <th>ARO.CUR.VECT2.Z.dat</th>\n",
       "      <th>CUR.PLANE.X.123-TRIMETHYLBENZENE.dat</th>\n",
       "      <th>...</th>\n",
       "      <th>WAT.CUR.PLANE.Y.dat</th>\n",
       "      <th>WAT.CUR.PLANE.Z.dat</th>\n",
       "      <th>WAT.CUR.VECT1.X.dat</th>\n",
       "      <th>WAT.CUR.VECT1.Y.dat</th>\n",
       "      <th>WAT.CUR.VECT1.Z.dat</th>\n",
       "      <th>WAT.CUR.VECT2.X.dat</th>\n",
       "      <th>WAT.CUR.VECT2.Y.dat</th>\n",
       "      <th>WAT.CUR.VECT2.Z.dat</th>\n",
       "      <th>OIL</th>\n",
       "      <th>IFT</th>\n",
       "    </tr>\n",
       "  </thead>\n",
       "  <tbody>\n",
       "    <tr>\n",
       "      <th>0</th>\n",
       "      <td>0.0</td>\n",
       "      <td>0.0</td>\n",
       "      <td>0.0</td>\n",
       "      <td>0.0</td>\n",
       "      <td>0.0</td>\n",
       "      <td>0.0</td>\n",
       "      <td>0.0</td>\n",
       "      <td>0.0</td>\n",
       "      <td>0.0</td>\n",
       "      <td>0.0</td>\n",
       "      <td>...</td>\n",
       "      <td>2.561338</td>\n",
       "      <td>1.925766</td>\n",
       "      <td>2.132906</td>\n",
       "      <td>2.195467</td>\n",
       "      <td>2.283345</td>\n",
       "      <td>2.121978</td>\n",
       "      <td>2.168694</td>\n",
       "      <td>2.538558</td>\n",
       "      <td>heptane-brine</td>\n",
       "      <td>52.365135</td>\n",
       "    </tr>\n",
       "    <tr>\n",
       "      <th>1</th>\n",
       "      <td>0.0</td>\n",
       "      <td>0.0</td>\n",
       "      <td>0.0</td>\n",
       "      <td>0.0</td>\n",
       "      <td>0.0</td>\n",
       "      <td>0.0</td>\n",
       "      <td>0.0</td>\n",
       "      <td>0.0</td>\n",
       "      <td>0.0</td>\n",
       "      <td>0.0</td>\n",
       "      <td>...</td>\n",
       "      <td>2.573678</td>\n",
       "      <td>1.929213</td>\n",
       "      <td>2.194877</td>\n",
       "      <td>2.217862</td>\n",
       "      <td>2.227462</td>\n",
       "      <td>2.118364</td>\n",
       "      <td>2.153618</td>\n",
       "      <td>2.458727</td>\n",
       "      <td>heptane-brine</td>\n",
       "      <td>51.956841</td>\n",
       "    </tr>\n",
       "    <tr>\n",
       "      <th>2</th>\n",
       "      <td>0.0</td>\n",
       "      <td>0.0</td>\n",
       "      <td>0.0</td>\n",
       "      <td>0.0</td>\n",
       "      <td>0.0</td>\n",
       "      <td>0.0</td>\n",
       "      <td>0.0</td>\n",
       "      <td>0.0</td>\n",
       "      <td>0.0</td>\n",
       "      <td>0.0</td>\n",
       "      <td>...</td>\n",
       "      <td>2.598549</td>\n",
       "      <td>1.968286</td>\n",
       "      <td>2.271622</td>\n",
       "      <td>2.174078</td>\n",
       "      <td>2.215780</td>\n",
       "      <td>2.116517</td>\n",
       "      <td>2.153828</td>\n",
       "      <td>2.473796</td>\n",
       "      <td>heptane-brine</td>\n",
       "      <td>52.675557</td>\n",
       "    </tr>\n",
       "    <tr>\n",
       "      <th>3</th>\n",
       "      <td>0.0</td>\n",
       "      <td>0.0</td>\n",
       "      <td>0.0</td>\n",
       "      <td>0.0</td>\n",
       "      <td>0.0</td>\n",
       "      <td>0.0</td>\n",
       "      <td>0.0</td>\n",
       "      <td>0.0</td>\n",
       "      <td>0.0</td>\n",
       "      <td>0.0</td>\n",
       "      <td>...</td>\n",
       "      <td>2.542474</td>\n",
       "      <td>1.923359</td>\n",
       "      <td>2.256527</td>\n",
       "      <td>2.192664</td>\n",
       "      <td>2.234650</td>\n",
       "      <td>2.169711</td>\n",
       "      <td>2.120533</td>\n",
       "      <td>2.489917</td>\n",
       "      <td>heptane-brine</td>\n",
       "      <td>51.308806</td>\n",
       "    </tr>\n",
       "    <tr>\n",
       "      <th>4</th>\n",
       "      <td>0.0</td>\n",
       "      <td>0.0</td>\n",
       "      <td>0.0</td>\n",
       "      <td>0.0</td>\n",
       "      <td>0.0</td>\n",
       "      <td>0.0</td>\n",
       "      <td>0.0</td>\n",
       "      <td>0.0</td>\n",
       "      <td>0.0</td>\n",
       "      <td>0.0</td>\n",
       "      <td>...</td>\n",
       "      <td>2.566365</td>\n",
       "      <td>1.932589</td>\n",
       "      <td>2.203510</td>\n",
       "      <td>2.227833</td>\n",
       "      <td>2.249510</td>\n",
       "      <td>2.146334</td>\n",
       "      <td>2.128255</td>\n",
       "      <td>2.466109</td>\n",
       "      <td>heptane-brine</td>\n",
       "      <td>52.359999</td>\n",
       "    </tr>\n",
       "  </tbody>\n",
       "</table>\n",
       "<p>5 rows × 257 columns</p>\n",
       "</div>"
      ],
      "text/plain": [
       "   ARO.CUR.PLANE.X.dat  ARO.CUR.PLANE.Y.dat  ARO.CUR.PLANE.Z.dat  \\\n",
       "0                  0.0                  0.0                  0.0   \n",
       "1                  0.0                  0.0                  0.0   \n",
       "2                  0.0                  0.0                  0.0   \n",
       "3                  0.0                  0.0                  0.0   \n",
       "4                  0.0                  0.0                  0.0   \n",
       "\n",
       "   ARO.CUR.VECT1.X.dat  ARO.CUR.VECT1.Y.dat  ARO.CUR.VECT1.Z.dat  \\\n",
       "0                  0.0                  0.0                  0.0   \n",
       "1                  0.0                  0.0                  0.0   \n",
       "2                  0.0                  0.0                  0.0   \n",
       "3                  0.0                  0.0                  0.0   \n",
       "4                  0.0                  0.0                  0.0   \n",
       "\n",
       "   ARO.CUR.VECT2.X.dat  ARO.CUR.VECT2.Y.dat  ARO.CUR.VECT2.Z.dat  \\\n",
       "0                  0.0                  0.0                  0.0   \n",
       "1                  0.0                  0.0                  0.0   \n",
       "2                  0.0                  0.0                  0.0   \n",
       "3                  0.0                  0.0                  0.0   \n",
       "4                  0.0                  0.0                  0.0   \n",
       "\n",
       "   CUR.PLANE.X.123-TRIMETHYLBENZENE.dat  ...  WAT.CUR.PLANE.Y.dat  \\\n",
       "0                                   0.0  ...             2.561338   \n",
       "1                                   0.0  ...             2.573678   \n",
       "2                                   0.0  ...             2.598549   \n",
       "3                                   0.0  ...             2.542474   \n",
       "4                                   0.0  ...             2.566365   \n",
       "\n",
       "   WAT.CUR.PLANE.Z.dat  WAT.CUR.VECT1.X.dat  WAT.CUR.VECT1.Y.dat  \\\n",
       "0             1.925766             2.132906             2.195467   \n",
       "1             1.929213             2.194877             2.217862   \n",
       "2             1.968286             2.271622             2.174078   \n",
       "3             1.923359             2.256527             2.192664   \n",
       "4             1.932589             2.203510             2.227833   \n",
       "\n",
       "   WAT.CUR.VECT1.Z.dat  WAT.CUR.VECT2.X.dat  WAT.CUR.VECT2.Y.dat  \\\n",
       "0             2.283345             2.121978             2.168694   \n",
       "1             2.227462             2.118364             2.153618   \n",
       "2             2.215780             2.116517             2.153828   \n",
       "3             2.234650             2.169711             2.120533   \n",
       "4             2.249510             2.146334             2.128255   \n",
       "\n",
       "   WAT.CUR.VECT2.Z.dat             OIL        IFT  \n",
       "0             2.538558   heptane-brine  52.365135  \n",
       "1             2.458727   heptane-brine  51.956841  \n",
       "2             2.473796   heptane-brine  52.675557  \n",
       "3             2.489917   heptane-brine  51.308806  \n",
       "4             2.466109   heptane-brine  52.359999  \n",
       "\n",
       "[5 rows x 257 columns]"
      ]
     },
     "execution_count": 51,
     "metadata": {},
     "output_type": "execute_result"
    }
   ],
   "source": [
    "df_c = df[curt]\n",
    "\n",
    "df_c.head()"
   ]
  },
  {
   "cell_type": "code",
   "execution_count": 52,
   "id": "0242d3f4",
   "metadata": {
    "execution": {
     "iopub.execute_input": "2021-11-10T22:29:15.076172Z",
     "iopub.status.busy": "2021-11-10T22:29:15.075469Z",
     "iopub.status.idle": "2021-11-10T22:29:15.084059Z",
     "shell.execute_reply": "2021-11-10T22:29:15.084565Z",
     "shell.execute_reply.started": "2021-10-08T01:22:02.601283Z"
    },
    "papermill": {
     "duration": 0.078274,
     "end_time": "2021-11-10T22:29:15.084772",
     "exception": false,
     "start_time": "2021-11-10T22:29:15.006498",
     "status": "completed"
    },
    "tags": []
   },
   "outputs": [
    {
     "data": {
      "text/plain": [
       "['ARO.CUR.PLANE.X.dat',\n",
       " 'ARO.CUR.PLANE.Y.dat',\n",
       " 'ARO.CUR.PLANE.Z.dat',\n",
       " 'ARO.CUR.VECT1.X.dat',\n",
       " 'ARO.CUR.VECT1.Y.dat',\n",
       " 'ARO.CUR.VECT1.Z.dat',\n",
       " 'ARO.CUR.VECT2.X.dat',\n",
       " 'ARO.CUR.VECT2.Y.dat',\n",
       " 'ARO.CUR.VECT2.Z.dat',\n",
       " 'CUR.PLANE.X.123-TRIMETHYLBENZENE.dat',\n",
       " 'CUR.PLANE.X.124-TRIMETHYLBENZENE.dat',\n",
       " 'CUR.PLANE.X.135-TRIMETHYLBENZENE.dat',\n",
       " 'CUR.PLANE.X.ANTHRACENE.dat',\n",
       " 'CUR.PLANE.X.BENZENE.dat',\n",
       " 'CUR.PLANE.X.BENZOPYRENE.dat',\n",
       " 'CUR.PLANE.X.CYCLOHEPTANE.dat',\n",
       " 'CUR.PLANE.X.CYCLOHEXANE.dat',\n",
       " 'CUR.PLANE.X.CYCLOOCTANE.dat',\n",
       " 'CUR.PLANE.X.ISOBUTANE.dat',\n",
       " 'CUR.PLANE.X.ISOPENTANE.dat',\n",
       " 'CUR.PLANE.X.M-XYLENE.dat',\n",
       " 'CUR.PLANE.X.NAPHTHALENE.dat',\n",
       " 'CUR.PLANE.X.O-XYLENE.dat',\n",
       " 'CUR.PLANE.X.PHENANTHERENE.dat',\n",
       " 'CUR.PLANE.X.P-XYLENE.dat',\n",
       " 'CUR.PLANE.X.PYRENE.dat',\n",
       " 'CUR.PLANE.X.TOLUENE.dat',\n",
       " 'CUR.PLANE.Y.123-TRIMETHYLBENZENE.dat',\n",
       " 'CUR.PLANE.Y.124-TRIMETHYLBENZENE.dat',\n",
       " 'CUR.PLANE.Y.135-TRIMETHYLBENZENE.dat',\n",
       " 'CUR.PLANE.Y.ANTHRACENE.dat',\n",
       " 'CUR.PLANE.Y.BENZENE.dat',\n",
       " 'CUR.PLANE.Y.BENZOPYRENE.dat',\n",
       " 'CUR.PLANE.Y.CYCLOHEPTANE.dat',\n",
       " 'CUR.PLANE.Y.CYCLOHEXANE.dat',\n",
       " 'CUR.PLANE.Y.CYCLOOCTANE.dat',\n",
       " 'CUR.PLANE.Y.ISOBUTANE.dat',\n",
       " 'CUR.PLANE.Y.ISOPENTANE.dat',\n",
       " 'CUR.PLANE.Y.M-XYLENE.dat',\n",
       " 'CUR.PLANE.Y.NAPHTHALENE.dat',\n",
       " 'CUR.PLANE.Y.O-XYLENE.dat',\n",
       " 'CUR.PLANE.Y.PHENANTHERENE.dat',\n",
       " 'CUR.PLANE.Y.P-XYLENE.dat',\n",
       " 'CUR.PLANE.Y.PYRENE.dat',\n",
       " 'CUR.PLANE.Y.TOLUENE.dat',\n",
       " 'CUR.PLANE.Z.123-TRIMETHYLBENZENE.dat',\n",
       " 'CUR.PLANE.Z.124-TRIMETHYLBENZENE.dat',\n",
       " 'CUR.PLANE.Z.135-TRIMETHYLBENZENE.dat',\n",
       " 'CUR.PLANE.Z.ANTHRACENE.dat',\n",
       " 'CUR.PLANE.Z.BENZENE.dat',\n",
       " 'CUR.PLANE.Z.BENZOPYRENE.dat',\n",
       " 'CUR.PLANE.Z.CYCLOHEPTANE.dat',\n",
       " 'CUR.PLANE.Z.CYCLOHEXANE.dat',\n",
       " 'CUR.PLANE.Z.CYCLOOCTANE.dat',\n",
       " 'CUR.PLANE.Z.ISOBUTANE.dat',\n",
       " 'CUR.PLANE.Z.ISOPENTANE.dat',\n",
       " 'CUR.PLANE.Z.M-XYLENE.dat',\n",
       " 'CUR.PLANE.Z.NAPHTHALENE.dat',\n",
       " 'CUR.PLANE.Z.O-XYLENE.dat',\n",
       " 'CUR.PLANE.Z.PHENANTHERENE.dat',\n",
       " 'CUR.PLANE.Z.P-XYLENE.dat',\n",
       " 'CUR.PLANE.Z.PYRENE.dat',\n",
       " 'CUR.PLANE.Z.TOLUENE.dat',\n",
       " 'CUR.VECT1.X.123-TRIMETHYLBENZENE.dat',\n",
       " 'CUR.VECT1.X.124-TRIMETHYLBENZENE.dat',\n",
       " 'CUR.VECT1.X.135-TRIMETHYLBENZENE.dat',\n",
       " 'CUR.VECT1.X.ANTHRACENE.dat',\n",
       " 'CUR.VECT1.X.BENZENE.dat',\n",
       " 'CUR.VECT1.X.BENZOPYRENE.dat',\n",
       " 'CUR.VECT1.X.CYCLOHEPTANE.dat',\n",
       " 'CUR.VECT1.X.CYCLOHEXANE.dat',\n",
       " 'CUR.VECT1.X.CYCLOOCTANE.dat',\n",
       " 'CUR.VECT1.X.ISOBUTANE.dat',\n",
       " 'CUR.VECT1.X.ISOPENTANE.dat',\n",
       " 'CUR.VECT1.X.M-XYLENE.dat',\n",
       " 'CUR.VECT1.X.NAPHTHALENE.dat',\n",
       " 'CUR.VECT1.X.O-XYLENE.dat',\n",
       " 'CUR.VECT1.X.PHENANTHERENE.dat',\n",
       " 'CUR.VECT1.X.P-XYLENE.dat',\n",
       " 'CUR.VECT1.X.PYRENE.dat',\n",
       " 'CUR.VECT1.X.TOLUENE.dat',\n",
       " 'CUR.VECT1.Y.123-TRIMETHYLBENZENE.dat',\n",
       " 'CUR.VECT1.Y.124-TRIMETHYLBENZENE.dat',\n",
       " 'CUR.VECT1.Y.135-TRIMETHYLBENZENE.dat',\n",
       " 'CUR.VECT1.Y.ANTHRACENE.dat',\n",
       " 'CUR.VECT1.Y.BENZENE.dat',\n",
       " 'CUR.VECT1.Y.BENZOPYRENE.dat',\n",
       " 'CUR.VECT1.Y.CYCLOHEPTANE.dat',\n",
       " 'CUR.VECT1.Y.CYCLOHEXANE.dat',\n",
       " 'CUR.VECT1.Y.CYCLOOCTANE.dat',\n",
       " 'CUR.VECT1.Y.ISOBUTANE.dat',\n",
       " 'CUR.VECT1.Y.ISOPENTANE.dat',\n",
       " 'CUR.VECT1.Y.M-XYLENE.dat',\n",
       " 'CUR.VECT1.Y.NAPHTHALENE.dat',\n",
       " 'CUR.VECT1.Y.O-XYLENE.dat',\n",
       " 'CUR.VECT1.Y.PHENANTHERENE.dat',\n",
       " 'CUR.VECT1.Y.P-XYLENE.dat',\n",
       " 'CUR.VECT1.Y.PYRENE.dat',\n",
       " 'CUR.VECT1.Y.TOLUENE.dat',\n",
       " 'CUR.VECT1.Z.123-TRIMETHYLBENZENE.dat',\n",
       " 'CUR.VECT1.Z.124-TRIMETHYLBENZENE.dat',\n",
       " 'CUR.VECT1.Z.135-TRIMETHYLBENZENE.dat',\n",
       " 'CUR.VECT1.Z.ANTHRACENE.dat',\n",
       " 'CUR.VECT1.Z.BENZENE.dat',\n",
       " 'CUR.VECT1.Z.BENZOPYRENE.dat',\n",
       " 'CUR.VECT1.Z.CYCLOHEPTANE.dat',\n",
       " 'CUR.VECT1.Z.CYCLOHEXANE.dat',\n",
       " 'CUR.VECT1.Z.CYCLOOCTANE.dat',\n",
       " 'CUR.VECT1.Z.ISOBUTANE.dat',\n",
       " 'CUR.VECT1.Z.ISOPENTANE.dat',\n",
       " 'CUR.VECT1.Z.M-XYLENE.dat',\n",
       " 'CUR.VECT1.Z.NAPHTHALENE.dat',\n",
       " 'CUR.VECT1.Z.O-XYLENE.dat',\n",
       " 'CUR.VECT1.Z.PHENANTHERENE.dat',\n",
       " 'CUR.VECT1.Z.P-XYLENE.dat',\n",
       " 'CUR.VECT1.Z.PYRENE.dat',\n",
       " 'CUR.VECT1.Z.TOLUENE.dat',\n",
       " 'CUR.VECT2.X.123-TRIMETHYLBENZENE.dat',\n",
       " 'CUR.VECT2.X.124-TRIMETHYLBENZENE.dat',\n",
       " 'CUR.VECT2.X.135-TRIMETHYLBENZENE.dat',\n",
       " 'CUR.VECT2.X.ANTHRACENE.dat',\n",
       " 'CUR.VECT2.X.BENZENE.dat',\n",
       " 'CUR.VECT2.X.BENZOPYRENE.dat',\n",
       " 'CUR.VECT2.X.CYCLOHEPTANE.dat',\n",
       " 'CUR.VECT2.X.CYCLOHEXANE.dat',\n",
       " 'CUR.VECT2.X.CYCLOOCTANE.dat',\n",
       " 'CUR.VECT2.X.ISOBUTANE.dat',\n",
       " 'CUR.VECT2.X.ISOPENTANE.dat',\n",
       " 'CUR.VECT2.X.M-XYLENE.dat',\n",
       " 'CUR.VECT2.X.NAPHTHALENE.dat',\n",
       " 'CUR.VECT2.X.O-XYLENE.dat',\n",
       " 'CUR.VECT2.X.PHENANTHERENE.dat',\n",
       " 'CUR.VECT2.X.P-XYLENE.dat',\n",
       " 'CUR.VECT2.X.PYRENE.dat',\n",
       " 'CUR.VECT2.X.TOLUENE.dat',\n",
       " 'CUR.VECT2.Y.123-TRIMETHYLBENZENE.dat',\n",
       " 'CUR.VECT2.Y.124-TRIMETHYLBENZENE.dat',\n",
       " 'CUR.VECT2.Y.135-TRIMETHYLBENZENE.dat',\n",
       " 'CUR.VECT2.Y.ANTHRACENE.dat',\n",
       " 'CUR.VECT2.Y.BENZENE.dat',\n",
       " 'CUR.VECT2.Y.BENZOPYRENE.dat',\n",
       " 'CUR.VECT2.Y.CYCLOHEPTANE.dat',\n",
       " 'CUR.VECT2.Y.CYCLOHEXANE.dat',\n",
       " 'CUR.VECT2.Y.CYCLOOCTANE.dat',\n",
       " 'CUR.VECT2.Y.ISOBUTANE.dat',\n",
       " 'CUR.VECT2.Y.ISOPENTANE.dat',\n",
       " 'CUR.VECT2.Y.M-XYLENE.dat',\n",
       " 'CUR.VECT2.Y.NAPHTHALENE.dat',\n",
       " 'CUR.VECT2.Y.O-XYLENE.dat',\n",
       " 'CUR.VECT2.Y.PHENANTHERENE.dat',\n",
       " 'CUR.VECT2.Y.P-XYLENE.dat',\n",
       " 'CUR.VECT2.Y.PYRENE.dat',\n",
       " 'CUR.VECT2.Y.TOLUENE.dat',\n",
       " 'CUR.VECT2.Z.123-TRIMETHYLBENZENE.dat',\n",
       " 'CUR.VECT2.Z.124-TRIMETHYLBENZENE.dat',\n",
       " 'CUR.VECT2.Z.135-TRIMETHYLBENZENE.dat',\n",
       " 'CUR.VECT2.Z.ANTHRACENE.dat',\n",
       " 'CUR.VECT2.Z.BENZENE.dat',\n",
       " 'CUR.VECT2.Z.BENZOPYRENE.dat',\n",
       " 'CUR.VECT2.Z.CYCLOHEPTANE.dat',\n",
       " 'CUR.VECT2.Z.CYCLOHEXANE.dat',\n",
       " 'CUR.VECT2.Z.CYCLOOCTANE.dat',\n",
       " 'CUR.VECT2.Z.ISOBUTANE.dat',\n",
       " 'CUR.VECT2.Z.ISOPENTANE.dat',\n",
       " 'CUR.VECT2.Z.M-XYLENE.dat',\n",
       " 'CUR.VECT2.Z.NAPHTHALENE.dat',\n",
       " 'CUR.VECT2.Z.O-XYLENE.dat',\n",
       " 'CUR.VECT2.Z.PHENANTHERENE.dat',\n",
       " 'CUR.VECT2.Z.P-XYLENE.dat',\n",
       " 'CUR.VECT2.Z.PYRENE.dat',\n",
       " 'CUR.VECT2.Z.TOLUENE.dat',\n",
       " 'CUR.X.BUTANE.dat',\n",
       " 'CUR.X.DECANE.dat',\n",
       " 'CUR.X.DODECANE.dat',\n",
       " 'CUR.X.EICOSANE.dat',\n",
       " 'CUR.X.HEPTADECANE.dat',\n",
       " 'CUR.X.HEPTANE.dat',\n",
       " 'CUR.X.HEXADECANE.dat',\n",
       " 'CUR.X.HEXANE.dat',\n",
       " 'CUR.X.NONADECANE.dat',\n",
       " 'CUR.X.NONANE.dat',\n",
       " 'CUR.X.OCTADECANE.dat',\n",
       " 'CUR.X.OCTANE.dat',\n",
       " 'CUR.X.PENTADECANE.dat',\n",
       " 'CUR.X.PENTANE.dat',\n",
       " 'CUR.X.PROPANE.dat',\n",
       " 'CUR.X.TETRADECANE.dat',\n",
       " 'CUR.X.TRIDECANE.dat',\n",
       " 'CUR.X.UNDECANE.dat',\n",
       " 'CUR.Y.BUTANE.dat',\n",
       " 'CUR.Y.DECANE.dat',\n",
       " 'CUR.Y.DODECANE.dat',\n",
       " 'CUR.Y.EICOSANE.dat',\n",
       " 'CUR.Y.HEPTADECANE.dat',\n",
       " 'CUR.Y.HEPTANE.dat',\n",
       " 'CUR.Y.HEXADECANE.dat',\n",
       " 'CUR.Y.HEXANE.dat',\n",
       " 'CUR.Y.NONADECANE.dat',\n",
       " 'CUR.Y.NONANE.dat',\n",
       " 'CUR.Y.OCTADECANE.dat',\n",
       " 'CUR.Y.OCTANE.dat',\n",
       " 'CUR.Y.PENTADECANE.dat',\n",
       " 'CUR.Y.PENTANE.dat',\n",
       " 'CUR.Y.PROPANE.dat',\n",
       " 'CUR.Y.TETRADECANE.dat',\n",
       " 'CUR.Y.TRIDECANE.dat',\n",
       " 'CUR.Y.UNDECANE.dat',\n",
       " 'CUR.Z.BUTANE.dat',\n",
       " 'CUR.Z.DECANE.dat',\n",
       " 'CUR.Z.DODECANE.dat',\n",
       " 'CUR.Z.EICOSANE.dat',\n",
       " 'CUR.Z.HEPTADECANE.dat',\n",
       " 'CUR.Z.HEPTANE.dat',\n",
       " 'CUR.Z.HEXADECANE.dat',\n",
       " 'CUR.Z.HEXANE.dat',\n",
       " 'CUR.Z.NONADECANE.dat',\n",
       " 'CUR.Z.NONANE.dat',\n",
       " 'CUR.Z.OCTADECANE.dat',\n",
       " 'CUR.Z.OCTANE.dat',\n",
       " 'CUR.Z.PENTADECANE.dat',\n",
       " 'CUR.Z.PENTANE.dat',\n",
       " 'CUR.Z.PROPANE.dat',\n",
       " 'CUR.Z.TETRADECANE.dat',\n",
       " 'CUR.Z.TRIDECANE.dat',\n",
       " 'CUR.Z.UNDECANE.dat',\n",
       " 'ISO.CUR.PLANE.X.dat',\n",
       " 'ISO.CUR.PLANE.Y.dat',\n",
       " 'ISO.CUR.PLANE.Z.dat',\n",
       " 'ISO.CUR.VECT1.X.dat',\n",
       " 'ISO.CUR.VECT1.Y.dat',\n",
       " 'ISO.CUR.VECT1.Z.dat',\n",
       " 'ISO.CUR.VECT2.X.dat',\n",
       " 'ISO.CUR.VECT2.Y.dat',\n",
       " 'ISO.CUR.VECT2.Z.dat',\n",
       " 'NAP.CUR.PLANE.X.dat',\n",
       " 'NAP.CUR.PLANE.Y.dat',\n",
       " 'NAP.CUR.PLANE.Z.dat',\n",
       " 'NAP.CUR.VECT1.X.dat',\n",
       " 'NAP.CUR.VECT1.Y.dat',\n",
       " 'NAP.CUR.VECT1.Z.dat',\n",
       " 'NAP.CUR.VECT2.X.dat',\n",
       " 'NAP.CUR.VECT2.Y.dat',\n",
       " 'NAP.CUR.VECT2.Z.dat',\n",
       " 'PAR.CUR.X.dat',\n",
       " 'PAR.CUR.Y.dat',\n",
       " 'PAR.CUR.Z.dat',\n",
       " 'WAT.CUR.PLANE.X.dat',\n",
       " 'WAT.CUR.PLANE.Y.dat',\n",
       " 'WAT.CUR.PLANE.Z.dat',\n",
       " 'WAT.CUR.VECT1.X.dat',\n",
       " 'WAT.CUR.VECT1.Y.dat',\n",
       " 'WAT.CUR.VECT1.Z.dat',\n",
       " 'WAT.CUR.VECT2.X.dat',\n",
       " 'WAT.CUR.VECT2.Y.dat',\n",
       " 'WAT.CUR.VECT2.Z.dat',\n",
       " ' OIL',\n",
       " 'IFT']"
      ]
     },
     "execution_count": 52,
     "metadata": {},
     "output_type": "execute_result"
    }
   ],
   "source": [
    "df_c.columns.to_list()"
   ]
  },
  {
   "cell_type": "code",
   "execution_count": 53,
   "id": "fdeb583a",
   "metadata": {
    "execution": {
     "iopub.execute_input": "2021-11-10T22:29:15.215436Z",
     "iopub.status.busy": "2021-11-10T22:29:15.214784Z",
     "iopub.status.idle": "2021-11-10T22:29:15.659623Z",
     "shell.execute_reply": "2021-11-10T22:29:15.659089Z",
     "shell.execute_reply.started": "2021-10-08T01:22:02.614338Z"
    },
    "papermill": {
     "duration": 0.511459,
     "end_time": "2021-11-10T22:29:15.659763",
     "exception": false,
     "start_time": "2021-11-10T22:29:15.148304",
     "status": "completed"
    },
    "tags": []
   },
   "outputs": [
    {
     "data": {
      "text/html": [
       "<div>\n",
       "<style scoped>\n",
       "    .dataframe tbody tr th:only-of-type {\n",
       "        vertical-align: middle;\n",
       "    }\n",
       "\n",
       "    .dataframe tbody tr th {\n",
       "        vertical-align: top;\n",
       "    }\n",
       "\n",
       "    .dataframe thead th {\n",
       "        text-align: right;\n",
       "    }\n",
       "</style>\n",
       "<table border=\"1\" class=\"dataframe\">\n",
       "  <thead>\n",
       "    <tr style=\"text-align: right;\">\n",
       "      <th></th>\n",
       "      <th>ARO.CUR.PLANE.X.dat</th>\n",
       "      <th>ARO.CUR.PLANE.Y.dat</th>\n",
       "      <th>ARO.CUR.PLANE.Z.dat</th>\n",
       "      <th>ARO.CUR.VECT1.X.dat</th>\n",
       "      <th>ARO.CUR.VECT1.Y.dat</th>\n",
       "      <th>ARO.CUR.VECT1.Z.dat</th>\n",
       "      <th>ARO.CUR.VECT2.X.dat</th>\n",
       "      <th>ARO.CUR.VECT2.Y.dat</th>\n",
       "      <th>ARO.CUR.VECT2.Z.dat</th>\n",
       "      <th>CUR.PLANE.X.123-TRIMETHYLBENZENE.dat</th>\n",
       "      <th>...</th>\n",
       "      <th>WAT.CUR.PLANE.X.dat</th>\n",
       "      <th>WAT.CUR.PLANE.Y.dat</th>\n",
       "      <th>WAT.CUR.PLANE.Z.dat</th>\n",
       "      <th>WAT.CUR.VECT1.X.dat</th>\n",
       "      <th>WAT.CUR.VECT1.Y.dat</th>\n",
       "      <th>WAT.CUR.VECT1.Z.dat</th>\n",
       "      <th>WAT.CUR.VECT2.X.dat</th>\n",
       "      <th>WAT.CUR.VECT2.Y.dat</th>\n",
       "      <th>WAT.CUR.VECT2.Z.dat</th>\n",
       "      <th>IFT</th>\n",
       "    </tr>\n",
       "  </thead>\n",
       "  <tbody>\n",
       "    <tr>\n",
       "      <th>count</th>\n",
       "      <td>130.000000</td>\n",
       "      <td>130.000000</td>\n",
       "      <td>130.000000</td>\n",
       "      <td>130.000000</td>\n",
       "      <td>130.000000</td>\n",
       "      <td>130.000000</td>\n",
       "      <td>130.000000</td>\n",
       "      <td>130.000000</td>\n",
       "      <td>130.000000</td>\n",
       "      <td>130.000000</td>\n",
       "      <td>...</td>\n",
       "      <td>130.000000</td>\n",
       "      <td>130.000000</td>\n",
       "      <td>130.000000</td>\n",
       "      <td>130.000000</td>\n",
       "      <td>130.000000</td>\n",
       "      <td>130.000000</td>\n",
       "      <td>130.000000</td>\n",
       "      <td>130.000000</td>\n",
       "      <td>130.000000</td>\n",
       "      <td>130.000000</td>\n",
       "    </tr>\n",
       "    <tr>\n",
       "      <th>mean</th>\n",
       "      <td>2.239949</td>\n",
       "      <td>2.195964</td>\n",
       "      <td>1.669847</td>\n",
       "      <td>1.626253</td>\n",
       "      <td>1.624933</td>\n",
       "      <td>2.481189</td>\n",
       "      <td>1.692923</td>\n",
       "      <td>1.686296</td>\n",
       "      <td>2.024561</td>\n",
       "      <td>0.261359</td>\n",
       "      <td>...</td>\n",
       "      <td>2.516044</td>\n",
       "      <td>2.516040</td>\n",
       "      <td>1.935093</td>\n",
       "      <td>2.210578</td>\n",
       "      <td>2.205932</td>\n",
       "      <td>2.215262</td>\n",
       "      <td>2.126224</td>\n",
       "      <td>2.127672</td>\n",
       "      <td>2.432915</td>\n",
       "      <td>47.638738</td>\n",
       "    </tr>\n",
       "    <tr>\n",
       "      <th>std</th>\n",
       "      <td>1.222259</td>\n",
       "      <td>1.187592</td>\n",
       "      <td>0.872746</td>\n",
       "      <td>0.839162</td>\n",
       "      <td>0.839435</td>\n",
       "      <td>1.406822</td>\n",
       "      <td>0.874359</td>\n",
       "      <td>0.870706</td>\n",
       "      <td>1.065715</td>\n",
       "      <td>0.861935</td>\n",
       "      <td>...</td>\n",
       "      <td>0.228675</td>\n",
       "      <td>0.227500</td>\n",
       "      <td>0.172254</td>\n",
       "      <td>0.197066</td>\n",
       "      <td>0.198404</td>\n",
       "      <td>0.197972</td>\n",
       "      <td>0.189770</td>\n",
       "      <td>0.189589</td>\n",
       "      <td>0.222400</td>\n",
       "      <td>3.790439</td>\n",
       "    </tr>\n",
       "    <tr>\n",
       "      <th>min</th>\n",
       "      <td>0.000000</td>\n",
       "      <td>0.000000</td>\n",
       "      <td>0.000000</td>\n",
       "      <td>0.000000</td>\n",
       "      <td>0.000000</td>\n",
       "      <td>0.000000</td>\n",
       "      <td>0.000000</td>\n",
       "      <td>0.000000</td>\n",
       "      <td>0.000000</td>\n",
       "      <td>0.000000</td>\n",
       "      <td>...</td>\n",
       "      <td>0.000000</td>\n",
       "      <td>0.000000</td>\n",
       "      <td>0.000000</td>\n",
       "      <td>0.000000</td>\n",
       "      <td>0.000000</td>\n",
       "      <td>0.000000</td>\n",
       "      <td>0.000000</td>\n",
       "      <td>0.000000</td>\n",
       "      <td>0.000000</td>\n",
       "      <td>40.107735</td>\n",
       "    </tr>\n",
       "    <tr>\n",
       "      <th>25%</th>\n",
       "      <td>2.431563</td>\n",
       "      <td>2.385455</td>\n",
       "      <td>1.951855</td>\n",
       "      <td>1.898822</td>\n",
       "      <td>1.887793</td>\n",
       "      <td>2.536770</td>\n",
       "      <td>1.969007</td>\n",
       "      <td>1.966795</td>\n",
       "      <td>2.316801</td>\n",
       "      <td>0.000000</td>\n",
       "      <td>...</td>\n",
       "      <td>2.500420</td>\n",
       "      <td>2.495265</td>\n",
       "      <td>1.935009</td>\n",
       "      <td>2.211072</td>\n",
       "      <td>2.211961</td>\n",
       "      <td>2.215578</td>\n",
       "      <td>2.124303</td>\n",
       "      <td>2.126202</td>\n",
       "      <td>2.414540</td>\n",
       "      <td>44.894079</td>\n",
       "    </tr>\n",
       "    <tr>\n",
       "      <th>50%</th>\n",
       "      <td>2.565879</td>\n",
       "      <td>2.550232</td>\n",
       "      <td>2.011075</td>\n",
       "      <td>2.030983</td>\n",
       "      <td>2.037089</td>\n",
       "      <td>2.772299</td>\n",
       "      <td>2.104576</td>\n",
       "      <td>2.108311</td>\n",
       "      <td>2.415272</td>\n",
       "      <td>0.000000</td>\n",
       "      <td>...</td>\n",
       "      <td>2.538290</td>\n",
       "      <td>2.542402</td>\n",
       "      <td>1.947879</td>\n",
       "      <td>2.226690</td>\n",
       "      <td>2.225074</td>\n",
       "      <td>2.229861</td>\n",
       "      <td>2.143162</td>\n",
       "      <td>2.141995</td>\n",
       "      <td>2.457096</td>\n",
       "      <td>48.935254</td>\n",
       "    </tr>\n",
       "    <tr>\n",
       "      <th>75%</th>\n",
       "      <td>2.726986</td>\n",
       "      <td>2.695686</td>\n",
       "      <td>2.108444</td>\n",
       "      <td>2.101578</td>\n",
       "      <td>2.095512</td>\n",
       "      <td>2.979242</td>\n",
       "      <td>2.177802</td>\n",
       "      <td>2.163734</td>\n",
       "      <td>2.579959</td>\n",
       "      <td>0.000000</td>\n",
       "      <td>...</td>\n",
       "      <td>2.572306</td>\n",
       "      <td>2.568593</td>\n",
       "      <td>1.963976</td>\n",
       "      <td>2.244434</td>\n",
       "      <td>2.239987</td>\n",
       "      <td>2.250764</td>\n",
       "      <td>2.157129</td>\n",
       "      <td>2.159160</td>\n",
       "      <td>2.480854</td>\n",
       "      <td>50.542605</td>\n",
       "    </tr>\n",
       "    <tr>\n",
       "      <th>max</th>\n",
       "      <td>4.289852</td>\n",
       "      <td>3.950058</td>\n",
       "      <td>2.745906</td>\n",
       "      <td>2.230399</td>\n",
       "      <td>2.236532</td>\n",
       "      <td>5.068983</td>\n",
       "      <td>2.434247</td>\n",
       "      <td>2.384955</td>\n",
       "      <td>3.499281</td>\n",
       "      <td>6.484937</td>\n",
       "      <td>...</td>\n",
       "      <td>2.672521</td>\n",
       "      <td>2.632256</td>\n",
       "      <td>2.004668</td>\n",
       "      <td>2.283945</td>\n",
       "      <td>2.288365</td>\n",
       "      <td>2.298449</td>\n",
       "      <td>2.214863</td>\n",
       "      <td>2.238185</td>\n",
       "      <td>2.772188</td>\n",
       "      <td>53.391183</td>\n",
       "    </tr>\n",
       "  </tbody>\n",
       "</table>\n",
       "<p>8 rows × 256 columns</p>\n",
       "</div>"
      ],
      "text/plain": [
       "       ARO.CUR.PLANE.X.dat  ARO.CUR.PLANE.Y.dat  ARO.CUR.PLANE.Z.dat  \\\n",
       "count           130.000000           130.000000           130.000000   \n",
       "mean              2.239949             2.195964             1.669847   \n",
       "std               1.222259             1.187592             0.872746   \n",
       "min               0.000000             0.000000             0.000000   \n",
       "25%               2.431563             2.385455             1.951855   \n",
       "50%               2.565879             2.550232             2.011075   \n",
       "75%               2.726986             2.695686             2.108444   \n",
       "max               4.289852             3.950058             2.745906   \n",
       "\n",
       "       ARO.CUR.VECT1.X.dat  ARO.CUR.VECT1.Y.dat  ARO.CUR.VECT1.Z.dat  \\\n",
       "count           130.000000           130.000000           130.000000   \n",
       "mean              1.626253             1.624933             2.481189   \n",
       "std               0.839162             0.839435             1.406822   \n",
       "min               0.000000             0.000000             0.000000   \n",
       "25%               1.898822             1.887793             2.536770   \n",
       "50%               2.030983             2.037089             2.772299   \n",
       "75%               2.101578             2.095512             2.979242   \n",
       "max               2.230399             2.236532             5.068983   \n",
       "\n",
       "       ARO.CUR.VECT2.X.dat  ARO.CUR.VECT2.Y.dat  ARO.CUR.VECT2.Z.dat  \\\n",
       "count           130.000000           130.000000           130.000000   \n",
       "mean              1.692923             1.686296             2.024561   \n",
       "std               0.874359             0.870706             1.065715   \n",
       "min               0.000000             0.000000             0.000000   \n",
       "25%               1.969007             1.966795             2.316801   \n",
       "50%               2.104576             2.108311             2.415272   \n",
       "75%               2.177802             2.163734             2.579959   \n",
       "max               2.434247             2.384955             3.499281   \n",
       "\n",
       "       CUR.PLANE.X.123-TRIMETHYLBENZENE.dat  ...  WAT.CUR.PLANE.X.dat  \\\n",
       "count                            130.000000  ...           130.000000   \n",
       "mean                               0.261359  ...             2.516044   \n",
       "std                                0.861935  ...             0.228675   \n",
       "min                                0.000000  ...             0.000000   \n",
       "25%                                0.000000  ...             2.500420   \n",
       "50%                                0.000000  ...             2.538290   \n",
       "75%                                0.000000  ...             2.572306   \n",
       "max                                6.484937  ...             2.672521   \n",
       "\n",
       "       WAT.CUR.PLANE.Y.dat  WAT.CUR.PLANE.Z.dat  WAT.CUR.VECT1.X.dat  \\\n",
       "count           130.000000           130.000000           130.000000   \n",
       "mean              2.516040             1.935093             2.210578   \n",
       "std               0.227500             0.172254             0.197066   \n",
       "min               0.000000             0.000000             0.000000   \n",
       "25%               2.495265             1.935009             2.211072   \n",
       "50%               2.542402             1.947879             2.226690   \n",
       "75%               2.568593             1.963976             2.244434   \n",
       "max               2.632256             2.004668             2.283945   \n",
       "\n",
       "       WAT.CUR.VECT1.Y.dat  WAT.CUR.VECT1.Z.dat  WAT.CUR.VECT2.X.dat  \\\n",
       "count           130.000000           130.000000           130.000000   \n",
       "mean              2.205932             2.215262             2.126224   \n",
       "std               0.198404             0.197972             0.189770   \n",
       "min               0.000000             0.000000             0.000000   \n",
       "25%               2.211961             2.215578             2.124303   \n",
       "50%               2.225074             2.229861             2.143162   \n",
       "75%               2.239987             2.250764             2.157129   \n",
       "max               2.288365             2.298449             2.214863   \n",
       "\n",
       "       WAT.CUR.VECT2.Y.dat  WAT.CUR.VECT2.Z.dat         IFT  \n",
       "count           130.000000           130.000000  130.000000  \n",
       "mean              2.127672             2.432915   47.638738  \n",
       "std               0.189589             0.222400    3.790439  \n",
       "min               0.000000             0.000000   40.107735  \n",
       "25%               2.126202             2.414540   44.894079  \n",
       "50%               2.141995             2.457096   48.935254  \n",
       "75%               2.159160             2.480854   50.542605  \n",
       "max               2.238185             2.772188   53.391183  \n",
       "\n",
       "[8 rows x 256 columns]"
      ]
     },
     "execution_count": 53,
     "metadata": {},
     "output_type": "execute_result"
    }
   ],
   "source": [
    "df_c.describe()"
   ]
  },
  {
   "cell_type": "code",
   "execution_count": 54,
   "id": "c22b2a9e",
   "metadata": {
    "execution": {
     "iopub.execute_input": "2021-11-10T22:29:15.791845Z",
     "iopub.status.busy": "2021-11-10T22:29:15.791228Z",
     "iopub.status.idle": "2021-11-10T22:29:15.803301Z",
     "shell.execute_reply": "2021-11-10T22:29:15.803802Z",
     "shell.execute_reply.started": "2021-10-08T01:22:03.105549Z"
    },
    "papermill": {
     "duration": 0.079214,
     "end_time": "2021-11-10T22:29:15.803977",
     "exception": false,
     "start_time": "2021-11-10T22:29:15.724763",
     "status": "completed"
    },
    "tags": []
   },
   "outputs": [],
   "source": [
    "px = df_c.loc[:,['.PLANE.X.' in i for i in df_c.columns]].columns.to_list()\n",
    "py = df_c.loc[:,['.PLANE.Y.' in i for i in df_c.columns]].columns.to_list()\n",
    "pz = df_c.loc[:,['.PLANE.Z.' in i for i in df_c.columns]].columns.to_list()\n",
    "\n",
    "v1 = df_c.loc[:,['.VECT1.' in i for i in df_c.columns]].columns.to_list()\n",
    "v2 = df_c.loc[:,['.VECT2.' in i for i in df_c.columns]].columns.to_list()\n",
    "\n",
    "x = df_c.loc[:,['.X.' in i for i in df_c.columns]].columns.to_list()\n",
    "y = df_c.loc[:,['.Y.' in i for i in df_c.columns]].columns.to_list()\n",
    "z = df_c.loc[:,['.Z.' in i for i in df_c.columns]].columns.to_list()"
   ]
  },
  {
   "cell_type": "code",
   "execution_count": 55,
   "id": "b229d1de",
   "metadata": {
    "execution": {
     "iopub.execute_input": "2021-11-10T22:29:15.935707Z",
     "iopub.status.busy": "2021-11-10T22:29:15.935103Z",
     "iopub.status.idle": "2021-11-10T22:29:15.940819Z",
     "shell.execute_reply": "2021-11-10T22:29:15.941312Z",
     "shell.execute_reply.started": "2021-10-08T01:22:03.121361Z"
    },
    "papermill": {
     "duration": 0.072695,
     "end_time": "2021-11-10T22:29:15.941508",
     "exception": false,
     "start_time": "2021-11-10T22:29:15.868813",
     "status": "completed"
    },
    "tags": []
   },
   "outputs": [],
   "source": [
    "px.append(' OIL')\n",
    "px.append('IFT')\n",
    "py.append(' OIL')\n",
    "py.append('IFT')\n",
    "pz.append(' OIL')\n",
    "pz.append('IFT')\n",
    "\n",
    "v1.append(' OIL')\n",
    "v1.append('IFT')\n",
    "v2.append(' OIL')\n",
    "v2.append('IFT')\n",
    "\n",
    "x.append(' OIL')\n",
    "x.append('IFT')\n",
    "y.append(' OIL')\n",
    "y.append('IFT')\n",
    "z.append(' OIL')\n",
    "z.append('IFT')"
   ]
  },
  {
   "cell_type": "code",
   "execution_count": 56,
   "id": "513ef5ef",
   "metadata": {
    "execution": {
     "iopub.execute_input": "2021-11-10T22:29:16.074963Z",
     "iopub.status.busy": "2021-11-10T22:29:16.074366Z",
     "iopub.status.idle": "2021-11-10T22:29:16.110215Z",
     "shell.execute_reply": "2021-11-10T22:29:16.110696Z",
     "shell.execute_reply.started": "2021-10-08T01:22:03.132274Z"
    },
    "papermill": {
     "duration": 0.103395,
     "end_time": "2021-11-10T22:29:16.110881",
     "exception": false,
     "start_time": "2021-11-10T22:29:16.007486",
     "status": "completed"
    },
    "tags": []
   },
   "outputs": [
    {
     "data": {
      "text/html": [
       "<div>\n",
       "<style scoped>\n",
       "    .dataframe tbody tr th:only-of-type {\n",
       "        vertical-align: middle;\n",
       "    }\n",
       "\n",
       "    .dataframe tbody tr th {\n",
       "        vertical-align: top;\n",
       "    }\n",
       "\n",
       "    .dataframe thead th {\n",
       "        text-align: right;\n",
       "    }\n",
       "</style>\n",
       "<table border=\"1\" class=\"dataframe\">\n",
       "  <thead>\n",
       "    <tr style=\"text-align: right;\">\n",
       "      <th></th>\n",
       "      <th>ARO.CUR.PLANE.X.dat</th>\n",
       "      <th>CUR.PLANE.X.123-TRIMETHYLBENZENE.dat</th>\n",
       "      <th>CUR.PLANE.X.124-TRIMETHYLBENZENE.dat</th>\n",
       "      <th>CUR.PLANE.X.135-TRIMETHYLBENZENE.dat</th>\n",
       "      <th>CUR.PLANE.X.ANTHRACENE.dat</th>\n",
       "      <th>CUR.PLANE.X.BENZENE.dat</th>\n",
       "      <th>CUR.PLANE.X.BENZOPYRENE.dat</th>\n",
       "      <th>CUR.PLANE.X.CYCLOHEPTANE.dat</th>\n",
       "      <th>CUR.PLANE.X.CYCLOHEXANE.dat</th>\n",
       "      <th>CUR.PLANE.X.CYCLOOCTANE.dat</th>\n",
       "      <th>...</th>\n",
       "      <th>CUR.PLANE.X.O-XYLENE.dat</th>\n",
       "      <th>CUR.PLANE.X.PHENANTHERENE.dat</th>\n",
       "      <th>CUR.PLANE.X.P-XYLENE.dat</th>\n",
       "      <th>CUR.PLANE.X.PYRENE.dat</th>\n",
       "      <th>CUR.PLANE.X.TOLUENE.dat</th>\n",
       "      <th>ISO.CUR.PLANE.X.dat</th>\n",
       "      <th>NAP.CUR.PLANE.X.dat</th>\n",
       "      <th>WAT.CUR.PLANE.X.dat</th>\n",
       "      <th>OIL</th>\n",
       "      <th>IFT</th>\n",
       "    </tr>\n",
       "  </thead>\n",
       "  <tbody>\n",
       "    <tr>\n",
       "      <th>0</th>\n",
       "      <td>0.0</td>\n",
       "      <td>0.0</td>\n",
       "      <td>0.0</td>\n",
       "      <td>0.0</td>\n",
       "      <td>0.0</td>\n",
       "      <td>0.0</td>\n",
       "      <td>0.0</td>\n",
       "      <td>0.0</td>\n",
       "      <td>0.0</td>\n",
       "      <td>0.0</td>\n",
       "      <td>...</td>\n",
       "      <td>0.0</td>\n",
       "      <td>0.0</td>\n",
       "      <td>0.0</td>\n",
       "      <td>0.0</td>\n",
       "      <td>0.0</td>\n",
       "      <td>0.0</td>\n",
       "      <td>0.0</td>\n",
       "      <td>2.672521</td>\n",
       "      <td>heptane-brine</td>\n",
       "      <td>52.365135</td>\n",
       "    </tr>\n",
       "    <tr>\n",
       "      <th>1</th>\n",
       "      <td>0.0</td>\n",
       "      <td>0.0</td>\n",
       "      <td>0.0</td>\n",
       "      <td>0.0</td>\n",
       "      <td>0.0</td>\n",
       "      <td>0.0</td>\n",
       "      <td>0.0</td>\n",
       "      <td>0.0</td>\n",
       "      <td>0.0</td>\n",
       "      <td>0.0</td>\n",
       "      <td>...</td>\n",
       "      <td>0.0</td>\n",
       "      <td>0.0</td>\n",
       "      <td>0.0</td>\n",
       "      <td>0.0</td>\n",
       "      <td>0.0</td>\n",
       "      <td>0.0</td>\n",
       "      <td>0.0</td>\n",
       "      <td>2.577311</td>\n",
       "      <td>heptane-brine</td>\n",
       "      <td>51.956841</td>\n",
       "    </tr>\n",
       "    <tr>\n",
       "      <th>2</th>\n",
       "      <td>0.0</td>\n",
       "      <td>0.0</td>\n",
       "      <td>0.0</td>\n",
       "      <td>0.0</td>\n",
       "      <td>0.0</td>\n",
       "      <td>0.0</td>\n",
       "      <td>0.0</td>\n",
       "      <td>0.0</td>\n",
       "      <td>0.0</td>\n",
       "      <td>0.0</td>\n",
       "      <td>...</td>\n",
       "      <td>0.0</td>\n",
       "      <td>0.0</td>\n",
       "      <td>0.0</td>\n",
       "      <td>0.0</td>\n",
       "      <td>0.0</td>\n",
       "      <td>0.0</td>\n",
       "      <td>0.0</td>\n",
       "      <td>2.515398</td>\n",
       "      <td>heptane-brine</td>\n",
       "      <td>52.675557</td>\n",
       "    </tr>\n",
       "    <tr>\n",
       "      <th>3</th>\n",
       "      <td>0.0</td>\n",
       "      <td>0.0</td>\n",
       "      <td>0.0</td>\n",
       "      <td>0.0</td>\n",
       "      <td>0.0</td>\n",
       "      <td>0.0</td>\n",
       "      <td>0.0</td>\n",
       "      <td>0.0</td>\n",
       "      <td>0.0</td>\n",
       "      <td>0.0</td>\n",
       "      <td>...</td>\n",
       "      <td>0.0</td>\n",
       "      <td>0.0</td>\n",
       "      <td>0.0</td>\n",
       "      <td>0.0</td>\n",
       "      <td>0.0</td>\n",
       "      <td>0.0</td>\n",
       "      <td>0.0</td>\n",
       "      <td>2.562462</td>\n",
       "      <td>heptane-brine</td>\n",
       "      <td>51.308806</td>\n",
       "    </tr>\n",
       "    <tr>\n",
       "      <th>4</th>\n",
       "      <td>0.0</td>\n",
       "      <td>0.0</td>\n",
       "      <td>0.0</td>\n",
       "      <td>0.0</td>\n",
       "      <td>0.0</td>\n",
       "      <td>0.0</td>\n",
       "      <td>0.0</td>\n",
       "      <td>0.0</td>\n",
       "      <td>0.0</td>\n",
       "      <td>0.0</td>\n",
       "      <td>...</td>\n",
       "      <td>0.0</td>\n",
       "      <td>0.0</td>\n",
       "      <td>0.0</td>\n",
       "      <td>0.0</td>\n",
       "      <td>0.0</td>\n",
       "      <td>0.0</td>\n",
       "      <td>0.0</td>\n",
       "      <td>2.581421</td>\n",
       "      <td>heptane-brine</td>\n",
       "      <td>52.359999</td>\n",
       "    </tr>\n",
       "  </tbody>\n",
       "</table>\n",
       "<p>5 rows × 24 columns</p>\n",
       "</div>"
      ],
      "text/plain": [
       "   ARO.CUR.PLANE.X.dat  CUR.PLANE.X.123-TRIMETHYLBENZENE.dat  \\\n",
       "0                  0.0                                   0.0   \n",
       "1                  0.0                                   0.0   \n",
       "2                  0.0                                   0.0   \n",
       "3                  0.0                                   0.0   \n",
       "4                  0.0                                   0.0   \n",
       "\n",
       "   CUR.PLANE.X.124-TRIMETHYLBENZENE.dat  CUR.PLANE.X.135-TRIMETHYLBENZENE.dat  \\\n",
       "0                                   0.0                                   0.0   \n",
       "1                                   0.0                                   0.0   \n",
       "2                                   0.0                                   0.0   \n",
       "3                                   0.0                                   0.0   \n",
       "4                                   0.0                                   0.0   \n",
       "\n",
       "   CUR.PLANE.X.ANTHRACENE.dat  CUR.PLANE.X.BENZENE.dat  \\\n",
       "0                         0.0                      0.0   \n",
       "1                         0.0                      0.0   \n",
       "2                         0.0                      0.0   \n",
       "3                         0.0                      0.0   \n",
       "4                         0.0                      0.0   \n",
       "\n",
       "   CUR.PLANE.X.BENZOPYRENE.dat  CUR.PLANE.X.CYCLOHEPTANE.dat  \\\n",
       "0                          0.0                           0.0   \n",
       "1                          0.0                           0.0   \n",
       "2                          0.0                           0.0   \n",
       "3                          0.0                           0.0   \n",
       "4                          0.0                           0.0   \n",
       "\n",
       "   CUR.PLANE.X.CYCLOHEXANE.dat  CUR.PLANE.X.CYCLOOCTANE.dat  ...  \\\n",
       "0                          0.0                          0.0  ...   \n",
       "1                          0.0                          0.0  ...   \n",
       "2                          0.0                          0.0  ...   \n",
       "3                          0.0                          0.0  ...   \n",
       "4                          0.0                          0.0  ...   \n",
       "\n",
       "   CUR.PLANE.X.O-XYLENE.dat  CUR.PLANE.X.PHENANTHERENE.dat  \\\n",
       "0                       0.0                            0.0   \n",
       "1                       0.0                            0.0   \n",
       "2                       0.0                            0.0   \n",
       "3                       0.0                            0.0   \n",
       "4                       0.0                            0.0   \n",
       "\n",
       "   CUR.PLANE.X.P-XYLENE.dat  CUR.PLANE.X.PYRENE.dat  CUR.PLANE.X.TOLUENE.dat  \\\n",
       "0                       0.0                     0.0                      0.0   \n",
       "1                       0.0                     0.0                      0.0   \n",
       "2                       0.0                     0.0                      0.0   \n",
       "3                       0.0                     0.0                      0.0   \n",
       "4                       0.0                     0.0                      0.0   \n",
       "\n",
       "   ISO.CUR.PLANE.X.dat  NAP.CUR.PLANE.X.dat  WAT.CUR.PLANE.X.dat  \\\n",
       "0                  0.0                  0.0             2.672521   \n",
       "1                  0.0                  0.0             2.577311   \n",
       "2                  0.0                  0.0             2.515398   \n",
       "3                  0.0                  0.0             2.562462   \n",
       "4                  0.0                  0.0             2.581421   \n",
       "\n",
       "              OIL        IFT  \n",
       "0   heptane-brine  52.365135  \n",
       "1   heptane-brine  51.956841  \n",
       "2   heptane-brine  52.675557  \n",
       "3   heptane-brine  51.308806  \n",
       "4   heptane-brine  52.359999  \n",
       "\n",
       "[5 rows x 24 columns]"
      ]
     },
     "execution_count": 56,
     "metadata": {},
     "output_type": "execute_result"
    }
   ],
   "source": [
    "df_px = df_c[px]\n",
    "df_py = df_c[py]\n",
    "df_pz = df_c[pz]\n",
    "\n",
    "df_v1 = df_c[v1]\n",
    "df_v2 = df_c[v2]\n",
    "\n",
    "df_x = df_c[x]\n",
    "df_y = df_c[y]\n",
    "df_z = df_c[z]\n",
    "\n",
    "df_px.head()"
   ]
  },
  {
   "cell_type": "code",
   "execution_count": 57,
   "id": "8782e9eb",
   "metadata": {
    "execution": {
     "iopub.execute_input": "2021-11-10T22:29:16.243237Z",
     "iopub.status.busy": "2021-11-10T22:29:16.242560Z",
     "iopub.status.idle": "2021-11-10T22:29:16.265523Z",
     "shell.execute_reply": "2021-11-10T22:29:16.264900Z",
     "shell.execute_reply.started": "2021-10-08T01:22:03.187689Z"
    },
    "papermill": {
     "duration": 0.089979,
     "end_time": "2021-11-10T22:29:16.265707",
     "exception": false,
     "start_time": "2021-11-10T22:29:16.175728",
     "status": "completed"
    },
    "tags": []
   },
   "outputs": [],
   "source": [
    "for i in range(26):\n",
    "    df = df.drop(i, axis=0)\n",
    "    "
   ]
  },
  {
   "cell_type": "code",
   "execution_count": 58,
   "id": "ecf25015",
   "metadata": {
    "execution": {
     "iopub.execute_input": "2021-11-10T22:29:16.407293Z",
     "iopub.status.busy": "2021-11-10T22:29:16.406257Z",
     "iopub.status.idle": "2021-11-10T22:29:16.666166Z",
     "shell.execute_reply": "2021-11-10T22:29:16.665703Z",
     "shell.execute_reply.started": "2021-10-08T01:22:03.216122Z"
    },
    "papermill": {
     "duration": 0.335211,
     "end_time": "2021-11-10T22:29:16.666303",
     "exception": false,
     "start_time": "2021-11-10T22:29:16.331092",
     "status": "completed"
    },
    "tags": []
   },
   "outputs": [
    {
     "data": {
      "text/plain": [
       "Text(0, 0.5, 'Valor da curtose')"
      ]
     },
     "execution_count": 58,
     "metadata": {},
     "output_type": "execute_result"
    },
    {
     "data": {
      "image/png": "[encoded data removed]",
      "text/plain": [
       "<Figure size 720x720 with 1 Axes>"
      ]
     },
     "metadata": {},
     "output_type": "display_data"
    }
   ],
   "source": [
    "rcParams['figure.figsize'] = 10, 10\n",
    "ax = sns.violinplot(x = \" OIL\", y = 'ARO.CUR.PLANE.Y.dat', data = df)\n",
    "\n",
    "ax.set_ylim(bottom=1.5, top=4.5)\n",
    "ax.set_title('Curtose na interface em relação ao plano Y', fontsize=20)\n",
    "ax.set_xticklabels(['Heptol','Óleo leve','Óleo médio', 'Tolueno'],fontsize=20)\n",
    "ax.set_xlabel(\"\")\n",
    "ax.set_ylabel(\"Valor da curtose\",fontsize=20)"
   ]
  },
  {
   "cell_type": "code",
   "execution_count": 59,
   "id": "4a389c91",
   "metadata": {
    "execution": {
     "iopub.execute_input": "2021-11-10T22:29:16.831070Z",
     "iopub.status.busy": "2021-11-10T22:29:16.829143Z",
     "iopub.status.idle": "2021-11-10T22:29:17.071176Z",
     "shell.execute_reply": "2021-11-10T22:29:17.071698Z",
     "shell.execute_reply.started": "2021-10-08T01:22:03.515232Z"
    },
    "papermill": {
     "duration": 0.339214,
     "end_time": "2021-11-10T22:29:17.071877",
     "exception": false,
     "start_time": "2021-11-10T22:29:16.732663",
     "status": "completed"
    },
    "tags": []
   },
   "outputs": [
    {
     "data": {
      "text/plain": [
       "Text(0, 0.5, 'Valor da curtose')"
      ]
     },
     "execution_count": 59,
     "metadata": {},
     "output_type": "execute_result"
    },
    {
     "data": {
      "image/png": "[encoded data removed]",
      "text/plain": [
       "<Figure size 720x720 with 1 Axes>"
      ]
     },
     "metadata": {},
     "output_type": "display_data"
    }
   ],
   "source": [
    "rcParams['figure.figsize'] = 10, 10\n",
    "\n",
    "ax = sns.violinplot(x = \" OIL\", y = 'ARO.CUR.PLANE.Z.dat', data = df)\n",
    "ax.set_ylim(bottom=1.5, top=4.5)\n",
    "ax.set_title('Curtose na interface em relação ao plano Z', fontsize=20)\n",
    "ax.set_xticklabels(['Heptol','Óleo leve','Óleo médio', 'Tolueno'],fontsize=20)\n",
    "ax.set_xlabel(\"\")\n",
    "ax.set_ylabel(\"Valor da curtose\",fontsize=20)"
   ]
  },
  {
   "cell_type": "markdown",
   "id": "eaa7b892",
   "metadata": {
    "papermill": {
     "duration": 0.068084,
     "end_time": "2021-11-10T22:29:17.212158",
     "exception": false,
     "start_time": "2021-11-10T22:29:17.144074",
     "status": "completed"
    },
    "tags": []
   },
   "source": [
    "PLANO X"
   ]
  },
  {
   "cell_type": "code",
   "execution_count": 60,
   "id": "38d5dbe3",
   "metadata": {
    "execution": {
     "iopub.execute_input": "2021-11-10T22:29:17.353264Z",
     "iopub.status.busy": "2021-11-10T22:29:17.352324Z",
     "iopub.status.idle": "2021-11-10T22:29:17.355873Z",
     "shell.execute_reply": "2021-11-10T22:29:17.356307Z",
     "shell.execute_reply.started": "2021-10-08T01:22:03.800891Z"
    },
    "papermill": {
     "duration": 0.074911,
     "end_time": "2021-11-10T22:29:17.356479",
     "exception": false,
     "start_time": "2021-11-10T22:29:17.281568",
     "status": "completed"
    },
    "tags": []
   },
   "outputs": [],
   "source": [
    "#for i in range(len(px)):\n",
    "    #sns.relplot(x='IFT',y=px[i], data=df_px, hue=' OIL')\n",
    "    #plt.savefig(str(px[i])+'.png')"
   ]
  },
  {
   "cell_type": "markdown",
   "id": "ba13c82e",
   "metadata": {
    "papermill": {
     "duration": 0.067311,
     "end_time": "2021-11-10T22:29:17.492044",
     "exception": false,
     "start_time": "2021-11-10T22:29:17.424733",
     "status": "completed"
    },
    "tags": []
   },
   "source": [
    "Plano y"
   ]
  },
  {
   "cell_type": "code",
   "execution_count": 61,
   "id": "f9f9d4e5",
   "metadata": {
    "execution": {
     "iopub.execute_input": "2021-11-10T22:29:17.631804Z",
     "iopub.status.busy": "2021-11-10T22:29:17.631195Z",
     "iopub.status.idle": "2021-11-10T22:29:17.633014Z",
     "shell.execute_reply": "2021-11-10T22:29:17.633416Z",
     "shell.execute_reply.started": "2021-10-08T01:22:03.806041Z"
    },
    "papermill": {
     "duration": 0.073871,
     "end_time": "2021-11-10T22:29:17.633603",
     "exception": false,
     "start_time": "2021-11-10T22:29:17.559732",
     "status": "completed"
    },
    "tags": []
   },
   "outputs": [],
   "source": [
    "#for i in range(len(py)):\n",
    "    #sns.relplot(x='IFT',y=py[i], data=df_py, hue=' OIL')\n",
    "    #plt.savefig(str(py[i])+'.png')"
   ]
  },
  {
   "cell_type": "markdown",
   "id": "51a06e96",
   "metadata": {
    "papermill": {
     "duration": 0.068655,
     "end_time": "2021-11-10T22:29:17.769745",
     "exception": false,
     "start_time": "2021-11-10T22:29:17.701090",
     "status": "completed"
    },
    "tags": []
   },
   "source": [
    "Plano z"
   ]
  },
  {
   "cell_type": "code",
   "execution_count": 62,
   "id": "69a6e11f",
   "metadata": {
    "execution": {
     "iopub.execute_input": "2021-11-10T22:29:17.908668Z",
     "iopub.status.busy": "2021-11-10T22:29:17.907898Z",
     "iopub.status.idle": "2021-11-10T22:29:17.910803Z",
     "shell.execute_reply": "2021-11-10T22:29:17.911246Z",
     "shell.execute_reply.started": "2021-10-08T01:22:03.816834Z"
    },
    "papermill": {
     "duration": 0.074021,
     "end_time": "2021-11-10T22:29:17.911407",
     "exception": false,
     "start_time": "2021-11-10T22:29:17.837386",
     "status": "completed"
    },
    "tags": []
   },
   "outputs": [],
   "source": [
    "#for i in range(len(pz)):\n",
    "    #sns.relplot(x='IFT',y=pz[i], data=df_pz, hue=' OIL')\n",
    "    #plt.savefig(str(pz[i])+'.png')"
   ]
  },
  {
   "cell_type": "markdown",
   "id": "c3e9b5f5",
   "metadata": {
    "papermill": {
     "duration": 0.069548,
     "end_time": "2021-11-10T22:29:18.049360",
     "exception": false,
     "start_time": "2021-11-10T22:29:17.979812",
     "status": "completed"
    },
    "tags": []
   },
   "source": [
    "VECT1"
   ]
  },
  {
   "cell_type": "code",
   "execution_count": 63,
   "id": "61827c81",
   "metadata": {
    "execution": {
     "iopub.execute_input": "2021-11-10T22:29:18.189649Z",
     "iopub.status.busy": "2021-11-10T22:29:18.188681Z",
     "iopub.status.idle": "2021-11-10T22:29:18.192045Z",
     "shell.execute_reply": "2021-11-10T22:29:18.192466Z",
     "shell.execute_reply.started": "2021-10-08T01:22:03.827895Z"
    },
    "papermill": {
     "duration": 0.074572,
     "end_time": "2021-11-10T22:29:18.192673",
     "exception": false,
     "start_time": "2021-11-10T22:29:18.118101",
     "status": "completed"
    },
    "tags": []
   },
   "outputs": [],
   "source": [
    "#for i in range(len(v1)):\n",
    "    #sns.relplot(x='IFT',y=v1[i], data=df_v1, hue=' OIL')\n",
    "    #plt.savefig(str(v1[i])+'.png')"
   ]
  },
  {
   "cell_type": "markdown",
   "id": "7238b2bb",
   "metadata": {
    "papermill": {
     "duration": 0.067787,
     "end_time": "2021-11-10T22:29:18.328905",
     "exception": false,
     "start_time": "2021-11-10T22:29:18.261118",
     "status": "completed"
    },
    "tags": []
   },
   "source": [
    "VECT2"
   ]
  },
  {
   "cell_type": "code",
   "execution_count": 64,
   "id": "0aafa9ed",
   "metadata": {
    "execution": {
     "iopub.execute_input": "2021-11-10T22:29:18.468456Z",
     "iopub.status.busy": "2021-11-10T22:29:18.467870Z",
     "iopub.status.idle": "2021-11-10T22:29:18.470739Z",
     "shell.execute_reply": "2021-11-10T22:29:18.471202Z",
     "shell.execute_reply.started": "2021-10-08T01:22:03.836539Z"
    },
    "papermill": {
     "duration": 0.074396,
     "end_time": "2021-11-10T22:29:18.471357",
     "exception": false,
     "start_time": "2021-11-10T22:29:18.396961",
     "status": "completed"
    },
    "tags": []
   },
   "outputs": [],
   "source": [
    "#for i in range(len(v2)):\n",
    "    #sns.relplot(x='IFT',y=v2[i], data=df_v2, hue=' OIL')\n",
    "    #plt.savefig(str(v2[i])+'.png')"
   ]
  },
  {
   "cell_type": "markdown",
   "id": "718a95d2",
   "metadata": {
    "papermill": {
     "duration": 0.0677,
     "end_time": "2021-11-10T22:29:18.607329",
     "exception": false,
     "start_time": "2021-11-10T22:29:18.539629",
     "status": "completed"
    },
    "tags": []
   },
   "source": [
    "# ENTROPIA"
   ]
  },
  {
   "cell_type": "code",
   "execution_count": 65,
   "id": "be6bdf35",
   "metadata": {
    "execution": {
     "iopub.execute_input": "2021-11-10T22:29:18.747650Z",
     "iopub.status.busy": "2021-11-10T22:29:18.747036Z",
     "iopub.status.idle": "2021-11-10T22:29:18.754765Z",
     "shell.execute_reply": "2021-11-10T22:29:18.755244Z",
     "shell.execute_reply.started": "2021-10-08T01:24:40.291551Z"
    },
    "papermill": {
     "duration": 0.078994,
     "end_time": "2021-11-10T22:29:18.755405",
     "exception": false,
     "start_time": "2021-11-10T22:29:18.676411",
     "status": "completed"
    },
    "tags": []
   },
   "outputs": [
    {
     "data": {
      "text/plain": [
       "['ENT.PLANE.X.123-TRIMETHYLBENZENE.DAT',\n",
       " 'ENT.PLANE.X.124-TRIMETHYLBENZENE.DAT',\n",
       " 'ENT.PLANE.X.135-TRIMETHYLBENZENE.DAT',\n",
       " 'ENT.PLANE.X.ANTHRACENE.DAT',\n",
       " 'ENT.PLANE.X.BENZENE.DAT',\n",
       " 'ENT.PLANE.X.BENZOPYRENE.DAT',\n",
       " 'ENT.PLANE.X.CYCLOHEPTANE.DAT',\n",
       " 'ENT.PLANE.X.CYCLOHEXANE.DAT',\n",
       " 'ENT.PLANE.X.CYCLOOCTANE.DAT',\n",
       " 'ENT.PLANE.X.ISOBUTANE.DAT',\n",
       " 'ENT.PLANE.X.ISOPENTANE.DAT',\n",
       " 'ENT.PLANE.X.M-XYLENE.DAT',\n",
       " 'ENT.PLANE.X.NAPHTHALENE.DAT',\n",
       " 'ENT.PLANE.X.O-XYLENE.DAT',\n",
       " 'ENT.PLANE.X.PHENANTHERENE.DAT',\n",
       " 'ENT.PLANE.X.P-XYLENE.DAT',\n",
       " 'ENT.PLANE.X.PYRENE.DAT',\n",
       " 'ENT.PLANE.X.TOLUENE.DAT',\n",
       " 'ENT.PLANE.Y.123-TRIMETHYLBENZENE.DAT',\n",
       " 'ENT.PLANE.Y.124-TRIMETHYLBENZENE.DAT',\n",
       " 'ENT.PLANE.Y.135-TRIMETHYLBENZENE.DAT',\n",
       " 'ENT.PLANE.Y.ANTHRACENE.DAT',\n",
       " 'ENT.PLANE.Y.BENZENE.DAT',\n",
       " 'ENT.PLANE.Y.BENZOPYRENE.DAT',\n",
       " 'ENT.PLANE.Y.CYCLOHEPTANE.DAT',\n",
       " 'ENT.PLANE.Y.CYCLOHEXANE.DAT',\n",
       " 'ENT.PLANE.Y.CYCLOOCTANE.DAT',\n",
       " 'ENT.PLANE.Y.ISOBUTANE.DAT',\n",
       " 'ENT.PLANE.Y.ISOPENTANE.DAT',\n",
       " 'ENT.PLANE.Y.M-XYLENE.DAT',\n",
       " 'ENT.PLANE.Y.NAPHTHALENE.DAT',\n",
       " 'ENT.PLANE.Y.O-XYLENE.DAT',\n",
       " 'ENT.PLANE.Y.PHENANTHERENE.DAT',\n",
       " 'ENT.PLANE.Y.P-XYLENE.DAT',\n",
       " 'ENT.PLANE.Y.PYRENE.DAT',\n",
       " 'ENT.PLANE.Y.TOLUENE.DAT',\n",
       " 'ENT.PLANE.Z.123-TRIMETHYLBENZENE.DAT',\n",
       " 'ENT.PLANE.Z.124-TRIMETHYLBENZENE.DAT',\n",
       " 'ENT.PLANE.Z.135-TRIMETHYLBENZENE.DAT',\n",
       " 'ENT.PLANE.Z.ANTHRACENE.DAT',\n",
       " 'ENT.PLANE.Z.BENZENE.DAT',\n",
       " 'ENT.PLANE.Z.BENZOPYRENE.DAT',\n",
       " 'ENT.PLANE.Z.CYCLOHEPTANE.DAT',\n",
       " 'ENT.PLANE.Z.CYCLOHEXANE.DAT',\n",
       " 'ENT.PLANE.Z.CYCLOOCTANE.DAT',\n",
       " 'ENT.PLANE.Z.ISOBUTANE.DAT',\n",
       " 'ENT.PLANE.Z.ISOPENTANE.DAT',\n",
       " 'ENT.PLANE.Z.M-XYLENE.DAT',\n",
       " 'ENT.PLANE.Z.NAPHTHALENE.DAT',\n",
       " 'ENT.PLANE.Z.O-XYLENE.DAT',\n",
       " 'ENT.PLANE.Z.PHENANTHERENE.DAT',\n",
       " 'ENT.PLANE.Z.P-XYLENE.DAT',\n",
       " 'ENT.PLANE.Z.PYRENE.DAT',\n",
       " 'ENT.PLANE.Z.TOLUENE.DAT',\n",
       " 'ENT.VECT1.X.123-TRIMETHYLBENZENE.DAT',\n",
       " 'ENT.VECT1.X.124-TRIMETHYLBENZENE.DAT',\n",
       " 'ENT.VECT1.X.135-TRIMETHYLBENZENE.DAT',\n",
       " 'ENT.VECT1.X.ANTHRACENE.DAT',\n",
       " 'ENT.VECT1.X.BENZENE.DAT',\n",
       " 'ENT.VECT1.X.BENZOPYRENE.DAT',\n",
       " 'ENT.VECT1.X.CYCLOHEPTANE.DAT',\n",
       " 'ENT.VECT1.X.CYCLOHEXANE.DAT',\n",
       " 'ENT.VECT1.X.CYCLOOCTANE.DAT',\n",
       " 'ENT.VECT1.X.ISOBUTANE.DAT',\n",
       " 'ENT.VECT1.X.ISOPENTANE.DAT',\n",
       " 'ENT.VECT1.X.M-XYLENE.DAT',\n",
       " 'ENT.VECT1.X.NAPHTHALENE.DAT',\n",
       " 'ENT.VECT1.X.O-XYLENE.DAT',\n",
       " 'ENT.VECT1.X.PHENANTHERENE.DAT',\n",
       " 'ENT.VECT1.X.P-XYLENE.DAT',\n",
       " 'ENT.VECT1.X.PYRENE.DAT',\n",
       " 'ENT.VECT1.X.TOLUENE.DAT',\n",
       " 'ENT.VECT1.Y.123-TRIMETHYLBENZENE.DAT',\n",
       " 'ENT.VECT1.Y.124-TRIMETHYLBENZENE.DAT',\n",
       " 'ENT.VECT1.Y.135-TRIMETHYLBENZENE.DAT',\n",
       " 'ENT.VECT1.Y.ANTHRACENE.DAT',\n",
       " 'ENT.VECT1.Y.BENZENE.DAT',\n",
       " 'ENT.VECT1.Y.BENZOPYRENE.DAT',\n",
       " 'ENT.VECT1.Y.CYCLOHEPTANE.DAT',\n",
       " 'ENT.VECT1.Y.CYCLOHEXANE.DAT',\n",
       " 'ENT.VECT1.Y.CYCLOOCTANE.DAT',\n",
       " 'ENT.VECT1.Y.ISOBUTANE.DAT',\n",
       " 'ENT.VECT1.Y.ISOPENTANE.DAT',\n",
       " 'ENT.VECT1.Y.M-XYLENE.DAT',\n",
       " 'ENT.VECT1.Y.NAPHTHALENE.DAT',\n",
       " 'ENT.VECT1.Y.O-XYLENE.DAT',\n",
       " 'ENT.VECT1.Y.PHENANTHERENE.DAT',\n",
       " 'ENT.VECT1.Y.P-XYLENE.DAT',\n",
       " 'ENT.VECT1.Y.PYRENE.DAT',\n",
       " 'ENT.VECT1.Y.TOLUENE.DAT',\n",
       " 'ENT.VECT1.Z.123-TRIMETHYLBENZENE.DAT',\n",
       " 'ENT.VECT1.Z.124-TRIMETHYLBENZENE.DAT',\n",
       " 'ENT.VECT1.Z.135-TRIMETHYLBENZENE.DAT',\n",
       " 'ENT.VECT1.Z.ANTHRACENE.DAT',\n",
       " 'ENT.VECT1.Z.BENZENE.DAT',\n",
       " 'ENT.VECT1.Z.BENZOPYRENE.DAT',\n",
       " 'ENT.VECT1.Z.CYCLOHEPTANE.DAT',\n",
       " 'ENT.VECT1.Z.CYCLOHEXANE.DAT',\n",
       " 'ENT.VECT1.Z.CYCLOOCTANE.DAT',\n",
       " 'ENT.VECT1.Z.ISOBUTANE.DAT',\n",
       " 'ENT.VECT1.Z.ISOPENTANE.DAT',\n",
       " 'ENT.VECT1.Z.M-XYLENE.DAT',\n",
       " 'ENT.VECT1.Z.NAPHTHALENE.DAT',\n",
       " 'ENT.VECT1.Z.O-XYLENE.DAT',\n",
       " 'ENT.VECT1.Z.PHENANTHERENE.DAT',\n",
       " 'ENT.VECT1.Z.P-XYLENE.DAT',\n",
       " 'ENT.VECT1.Z.PYRENE.DAT',\n",
       " 'ENT.VECT1.Z.TOLUENE.DAT',\n",
       " 'ENT.VECT2.X.123-TRIMETHYLBENZENE.DAT',\n",
       " 'ENT.VECT2.X.124-TRIMETHYLBENZENE.DAT',\n",
       " 'ENT.VECT2.X.135-TRIMETHYLBENZENE.DAT',\n",
       " 'ENT.VECT2.X.ANTHRACENE.DAT',\n",
       " 'ENT.VECT2.X.BENZENE.DAT',\n",
       " 'ENT.VECT2.X.BENZOPYRENE.DAT',\n",
       " 'ENT.VECT2.X.CYCLOHEPTANE.DAT',\n",
       " 'ENT.VECT2.X.CYCLOHEXANE.DAT',\n",
       " 'ENT.VECT2.X.CYCLOOCTANE.DAT',\n",
       " 'ENT.VECT2.X.ISOBUTANE.DAT',\n",
       " 'ENT.VECT2.X.ISOPENTANE.DAT',\n",
       " 'ENT.VECT2.X.M-XYLENE.DAT',\n",
       " 'ENT.VECT2.X.NAPHTHALENE.DAT',\n",
       " 'ENT.VECT2.X.O-XYLENE.DAT',\n",
       " 'ENT.VECT2.X.PHENANTHERENE.DAT',\n",
       " 'ENT.VECT2.X.P-XYLENE.DAT',\n",
       " 'ENT.VECT2.X.PYRENE.DAT',\n",
       " 'ENT.VECT2.X.TOLUENE.DAT',\n",
       " 'ENT.VECT2.Y.123-TRIMETHYLBENZENE.DAT',\n",
       " 'ENT.VECT2.Y.124-TRIMETHYLBENZENE.DAT',\n",
       " 'ENT.VECT2.Y.135-TRIMETHYLBENZENE.DAT',\n",
       " 'ENT.VECT2.Y.ANTHRACENE.DAT',\n",
       " 'ENT.VECT2.Y.BENZENE.DAT',\n",
       " 'ENT.VECT2.Y.BENZOPYRENE.DAT',\n",
       " 'ENT.VECT2.Y.CYCLOHEPTANE.DAT',\n",
       " 'ENT.VECT2.Y.CYCLOHEXANE.DAT',\n",
       " 'ENT.VECT2.Y.CYCLOOCTANE.DAT',\n",
       " 'ENT.VECT2.Y.ISOBUTANE.DAT',\n",
       " 'ENT.VECT2.Y.ISOPENTANE.DAT',\n",
       " 'ENT.VECT2.Y.M-XYLENE.DAT',\n",
       " 'ENT.VECT2.Y.NAPHTHALENE.DAT',\n",
       " 'ENT.VECT2.Y.O-XYLENE.DAT',\n",
       " 'ENT.VECT2.Y.PHENANTHERENE.DAT',\n",
       " 'ENT.VECT2.Y.P-XYLENE.DAT',\n",
       " 'ENT.VECT2.Y.PYRENE.DAT',\n",
       " 'ENT.VECT2.Y.TOLUENE.DAT',\n",
       " 'ENT.VECT2.Z.123-TRIMETHYLBENZENE.DAT',\n",
       " 'ENT.VECT2.Z.124-TRIMETHYLBENZENE.DAT',\n",
       " 'ENT.VECT2.Z.135-TRIMETHYLBENZENE.DAT',\n",
       " 'ENT.VECT2.Z.ANTHRACENE.DAT',\n",
       " 'ENT.VECT2.Z.BENZENE.DAT',\n",
       " 'ENT.VECT2.Z.BENZOPYRENE.DAT',\n",
       " 'ENT.VECT2.Z.CYCLOHEPTANE.DAT',\n",
       " 'ENT.VECT2.Z.CYCLOHEXANE.DAT',\n",
       " 'ENT.VECT2.Z.CYCLOOCTANE.DAT',\n",
       " 'ENT.VECT2.Z.ISOBUTANE.DAT',\n",
       " 'ENT.VECT2.Z.ISOPENTANE.DAT',\n",
       " 'ENT.VECT2.Z.M-XYLENE.DAT',\n",
       " 'ENT.VECT2.Z.NAPHTHALENE.DAT',\n",
       " 'ENT.VECT2.Z.O-XYLENE.DAT',\n",
       " 'ENT.VECT2.Z.PHENANTHERENE.DAT',\n",
       " 'ENT.VECT2.Z.P-XYLENE.DAT',\n",
       " 'ENT.VECT2.Z.PYRENE.DAT',\n",
       " 'ENT.VECT2.Z.TOLUENE.DAT',\n",
       " 'ENT.X.BUTANE.dat',\n",
       " 'ENT.X.DECANE.dat',\n",
       " 'ENT.X.DODECANE.dat',\n",
       " 'ENT.X.EICOSANE.dat',\n",
       " 'ENT.X.HEPTADECANE.dat',\n",
       " 'ENT.X.HEPTANE.dat',\n",
       " 'ENT.X.HEXADECANE.dat',\n",
       " 'ENT.X.HEXANE.dat',\n",
       " 'ENT.X.NONADECANE.dat',\n",
       " 'ENT.X.NONANE.dat',\n",
       " 'ENT.X.OCTADECANE.dat',\n",
       " 'ENT.X.OCTANE.dat',\n",
       " 'ENT.X.PENTADECANE.dat',\n",
       " 'ENT.X.PENTANE.dat',\n",
       " 'ENT.X.TETRADECANE.dat',\n",
       " 'ENT.X.TRIDECANE.dat',\n",
       " 'ENT.X.UNDECANE.dat',\n",
       " 'ENT.Y.BUTANE.dat',\n",
       " 'ENT.Y.DECANE.dat',\n",
       " 'ENT.Y.DODECANE.dat',\n",
       " 'ENT.Y.EICOSANE.dat',\n",
       " 'ENT.Y.HEPTADECANE.dat',\n",
       " 'ENT.Y.HEPTANE.dat',\n",
       " 'ENT.Y.HEXADECANE.dat',\n",
       " 'ENT.Y.HEXANE.dat',\n",
       " 'ENT.Y.NONADECANE.dat',\n",
       " 'ENT.Y.NONANE.dat',\n",
       " 'ENT.Y.OCTADECANE.dat',\n",
       " 'ENT.Y.OCTANE.dat',\n",
       " 'ENT.Y.PENTADECANE.dat',\n",
       " 'ENT.Y.PENTANE.dat',\n",
       " 'ENT.Y.TETRADECANE.dat',\n",
       " 'ENT.Y.TRIDECANE.dat',\n",
       " 'ENT.Y.UNDECANE.dat',\n",
       " 'ENT.Z.BUTANE.dat',\n",
       " 'ENT.Z.DECANE.dat',\n",
       " 'ENT.Z.DODECANE.dat',\n",
       " 'ENT.Z.EICOSANE.dat',\n",
       " 'ENT.Z.HEPTADECANE.dat',\n",
       " 'ENT.Z.HEPTANE.dat',\n",
       " 'ENT.Z.HEXADECANE.dat',\n",
       " 'ENT.Z.HEXANE.dat',\n",
       " 'ENT.Z.NONADECANE.dat',\n",
       " 'ENT.Z.NONANE.dat',\n",
       " 'ENT.Z.OCTADECANE.dat',\n",
       " 'ENT.Z.OCTANE.dat',\n",
       " 'ENT.Z.PENTADECANE.dat',\n",
       " 'ENT.Z.PENTANE.dat',\n",
       " 'ENT.Z.TETRADECANE.dat',\n",
       " 'ENT.Z.TRIDECANE.dat',\n",
       " 'ENT.Z.UNDECANE.dat',\n",
       " 'PAR.ENT.X.dat',\n",
       " 'PAR.ENT.Y.dat',\n",
       " 'PAR.ENT.Z.dat',\n",
       " ' OIL',\n",
       " 'IFT']"
      ]
     },
     "execution_count": 65,
     "metadata": {},
     "output_type": "execute_result"
    }
   ],
   "source": [
    "ent\n"
   ]
  },
  {
   "cell_type": "code",
   "execution_count": 66,
   "id": "e8b2ab9c",
   "metadata": {
    "execution": {
     "iopub.execute_input": "2021-11-10T22:29:18.896027Z",
     "iopub.status.busy": "2021-11-10T22:29:18.895362Z",
     "iopub.status.idle": "2021-11-10T22:29:19.117079Z",
     "shell.execute_reply": "2021-11-10T22:29:19.116441Z",
     "shell.execute_reply.started": "2021-10-08T01:33:04.308225Z"
    },
    "papermill": {
     "duration": 0.292641,
     "end_time": "2021-11-10T22:29:19.117217",
     "exception": false,
     "start_time": "2021-11-10T22:29:18.824576",
     "status": "completed"
    },
    "tags": []
   },
   "outputs": [
    {
     "data": {
      "text/plain": [
       "Text(0, 0.5, 'Valor da curtose')"
      ]
     },
     "execution_count": 66,
     "metadata": {},
     "output_type": "execute_result"
    },
    {
     "data": {
      "image/png": "[encoded data removed]",
      "text/plain": [
       "<Figure size 720x720 with 1 Axes>"
      ]
     },
     "metadata": {},
     "output_type": "display_data"
    }
   ],
   "source": [
    "rcParams['figure.figsize'] = 10, 10\n",
    "\n",
    "ax = sns.boxplot(x = \" OIL\", y = 'ENT.VECT1.Y.TOLUENE.DAT', data = df)\n",
    "ax.set_ylim(bottom=1.5, top=5)\n",
    "ax.set_title('Entropia do tolueno interface em relação ao plano Y', fontsize=20)\n",
    "ax.set_xticklabels(['Heptol','Óleo leve','Óleo médio', 'Tolueno'],fontsize=20)\n",
    "ax.set_facecolor(\"white\")\n",
    "ax.set_xlabel(\"\")\n",
    "ax.set_ylabel(\"Valor da curtose\",fontsize=20)"
   ]
  },
  {
   "cell_type": "code",
   "execution_count": 67,
   "id": "768f25ea",
   "metadata": {
    "execution": {
     "iopub.execute_input": "2021-11-10T22:29:19.267841Z",
     "iopub.status.busy": "2021-11-10T22:29:19.267056Z",
     "iopub.status.idle": "2021-11-10T22:29:19.486791Z",
     "shell.execute_reply": "2021-11-10T22:29:19.486265Z",
     "shell.execute_reply.started": "2021-10-08T01:34:07.4092Z"
    },
    "papermill": {
     "duration": 0.299278,
     "end_time": "2021-11-10T22:29:19.486942",
     "exception": false,
     "start_time": "2021-11-10T22:29:19.187664",
     "status": "completed"
    },
    "tags": []
   },
   "outputs": [
    {
     "data": {
      "text/plain": [
       "Text(0, 0.5, 'Valor da curtose')"
      ]
     },
     "execution_count": 67,
     "metadata": {},
     "output_type": "execute_result"
    },
    {
     "data": {
      "image/png": "[encoded data removed]",
      "text/plain": [
       "<Figure size 720x720 with 1 Axes>"
      ]
     },
     "metadata": {},
     "output_type": "display_data"
    }
   ],
   "source": [
    "rcParams['figure.figsize'] = 10, 10\n",
    "\n",
    "ax = sns.boxplot(x = \" OIL\", y = 'ENT.VECT1.Z.TOLUENE.DAT', data = df)\n",
    "ax.set_ylim(bottom=1.5, top=5)\n",
    "ax.set_facecolor(\"white\")\n",
    "ax.set_title('Entropia do tolueno na interface em relação ao plano Z', fontsize=20)\n",
    "ax.set_xticklabels(['Heptol','Óleo leve','Óleo médio', 'Tolueno'],fontsize=20)\n",
    "ax.set_xlabel(\"\")\n",
    "ax.set_ylabel(\"Valor da curtose\",fontsize=20)"
   ]
  },
  {
   "cell_type": "code",
   "execution_count": null,
   "id": "113f1ef6",
   "metadata": {
    "papermill": {
     "duration": 0.072677,
     "end_time": "2021-11-10T22:29:19.632431",
     "exception": false,
     "start_time": "2021-11-10T22:29:19.559754",
     "status": "completed"
    },
    "tags": []
   },
   "outputs": [],
   "source": []
  }
 ],
 "metadata": {
  "kernelspec": {
   "display_name": "Python 3",
   "language": "python",
   "name": "python3"
  },
  "language_info": {
   "codemirror_mode": {
    "name": "ipython",
    "version": 3
   },
   "file_extension": ".py",
   "mimetype": "text/x-python",
   "name": "python",
   "nbconvert_exporter": "python",
   "pygments_lexer": "ipython3",
   "version": "3.7.10"
  },
  "papermill": {
   "default_parameters": {},
   "duration": 29.907022,
   "end_time": "2021-11-10T22:29:21.076160",
   "environment_variables": {},
   "exception": null,
   "input_path": "__notebook__.ipynb",
   "output_path": "__notebook__.ipynb",
   "parameters": {},
   "start_time": "2021-11-10T22:28:51.169138",
   "version": "2.3.3"
  }
 },
 "nbformat": 4,
 "nbformat_minor": 5
}
